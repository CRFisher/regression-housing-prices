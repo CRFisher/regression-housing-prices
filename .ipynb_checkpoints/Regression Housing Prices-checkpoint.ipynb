{
 "cells": [
  {
   "cell_type": "code",
   "execution_count": 1,
   "metadata": {},
   "outputs": [],
   "source": [
    "# Competition hosted by Kaggle\n",
    "# URL: https://www.kaggle.com/c/house-prices-advanced-regression-techniques\n",
    "# Predicting the sales price of a house, using various regression techniques."
   ]
  },
  {
   "cell_type": "code",
   "execution_count": 2,
   "metadata": {},
   "outputs": [],
   "source": [
    "#%config Completer.use_jedi = False\n",
    "import pandas as pd\n",
    "import numpy as np\n",
    "import matplotlib.pyplot as plt\n",
    "import seaborn as sns\n",
    "sns.set()\n",
    "plt.show()\n",
    "%matplotlib inline"
   ]
  },
  {
   "cell_type": "code",
   "execution_count": 3,
   "metadata": {},
   "outputs": [],
   "source": [
    "train = pd.read_csv('data/train.csv')\n",
    "test = pd.read_csv('data/test.csv')\n",
    "combine = [train,test]"
   ]
  },
  {
   "cell_type": "code",
   "execution_count": 4,
   "metadata": {},
   "outputs": [
    {
     "data": {
      "text/html": [
       "<div>\n",
       "<style scoped>\n",
       "    .dataframe tbody tr th:only-of-type {\n",
       "        vertical-align: middle;\n",
       "    }\n",
       "\n",
       "    .dataframe tbody tr th {\n",
       "        vertical-align: top;\n",
       "    }\n",
       "\n",
       "    .dataframe thead th {\n",
       "        text-align: right;\n",
       "    }\n",
       "</style>\n",
       "<table border=\"1\" class=\"dataframe\">\n",
       "  <thead>\n",
       "    <tr style=\"text-align: right;\">\n",
       "      <th></th>\n",
       "      <th>Id</th>\n",
       "      <th>MSSubClass</th>\n",
       "      <th>MSZoning</th>\n",
       "      <th>LotFrontage</th>\n",
       "      <th>LotArea</th>\n",
       "      <th>Street</th>\n",
       "      <th>Alley</th>\n",
       "      <th>LotShape</th>\n",
       "      <th>LandContour</th>\n",
       "      <th>Utilities</th>\n",
       "      <th>...</th>\n",
       "      <th>PoolArea</th>\n",
       "      <th>PoolQC</th>\n",
       "      <th>Fence</th>\n",
       "      <th>MiscFeature</th>\n",
       "      <th>MiscVal</th>\n",
       "      <th>MoSold</th>\n",
       "      <th>YrSold</th>\n",
       "      <th>SaleType</th>\n",
       "      <th>SaleCondition</th>\n",
       "      <th>SalePrice</th>\n",
       "    </tr>\n",
       "  </thead>\n",
       "  <tbody>\n",
       "    <tr>\n",
       "      <th>0</th>\n",
       "      <td>1</td>\n",
       "      <td>60</td>\n",
       "      <td>RL</td>\n",
       "      <td>65.0</td>\n",
       "      <td>8450</td>\n",
       "      <td>Pave</td>\n",
       "      <td>NaN</td>\n",
       "      <td>Reg</td>\n",
       "      <td>Lvl</td>\n",
       "      <td>AllPub</td>\n",
       "      <td>...</td>\n",
       "      <td>0</td>\n",
       "      <td>NaN</td>\n",
       "      <td>NaN</td>\n",
       "      <td>NaN</td>\n",
       "      <td>0</td>\n",
       "      <td>2</td>\n",
       "      <td>2008</td>\n",
       "      <td>WD</td>\n",
       "      <td>Normal</td>\n",
       "      <td>208500</td>\n",
       "    </tr>\n",
       "    <tr>\n",
       "      <th>1</th>\n",
       "      <td>2</td>\n",
       "      <td>20</td>\n",
       "      <td>RL</td>\n",
       "      <td>80.0</td>\n",
       "      <td>9600</td>\n",
       "      <td>Pave</td>\n",
       "      <td>NaN</td>\n",
       "      <td>Reg</td>\n",
       "      <td>Lvl</td>\n",
       "      <td>AllPub</td>\n",
       "      <td>...</td>\n",
       "      <td>0</td>\n",
       "      <td>NaN</td>\n",
       "      <td>NaN</td>\n",
       "      <td>NaN</td>\n",
       "      <td>0</td>\n",
       "      <td>5</td>\n",
       "      <td>2007</td>\n",
       "      <td>WD</td>\n",
       "      <td>Normal</td>\n",
       "      <td>181500</td>\n",
       "    </tr>\n",
       "    <tr>\n",
       "      <th>2</th>\n",
       "      <td>3</td>\n",
       "      <td>60</td>\n",
       "      <td>RL</td>\n",
       "      <td>68.0</td>\n",
       "      <td>11250</td>\n",
       "      <td>Pave</td>\n",
       "      <td>NaN</td>\n",
       "      <td>IR1</td>\n",
       "      <td>Lvl</td>\n",
       "      <td>AllPub</td>\n",
       "      <td>...</td>\n",
       "      <td>0</td>\n",
       "      <td>NaN</td>\n",
       "      <td>NaN</td>\n",
       "      <td>NaN</td>\n",
       "      <td>0</td>\n",
       "      <td>9</td>\n",
       "      <td>2008</td>\n",
       "      <td>WD</td>\n",
       "      <td>Normal</td>\n",
       "      <td>223500</td>\n",
       "    </tr>\n",
       "    <tr>\n",
       "      <th>3</th>\n",
       "      <td>4</td>\n",
       "      <td>70</td>\n",
       "      <td>RL</td>\n",
       "      <td>60.0</td>\n",
       "      <td>9550</td>\n",
       "      <td>Pave</td>\n",
       "      <td>NaN</td>\n",
       "      <td>IR1</td>\n",
       "      <td>Lvl</td>\n",
       "      <td>AllPub</td>\n",
       "      <td>...</td>\n",
       "      <td>0</td>\n",
       "      <td>NaN</td>\n",
       "      <td>NaN</td>\n",
       "      <td>NaN</td>\n",
       "      <td>0</td>\n",
       "      <td>2</td>\n",
       "      <td>2006</td>\n",
       "      <td>WD</td>\n",
       "      <td>Abnorml</td>\n",
       "      <td>140000</td>\n",
       "    </tr>\n",
       "    <tr>\n",
       "      <th>4</th>\n",
       "      <td>5</td>\n",
       "      <td>60</td>\n",
       "      <td>RL</td>\n",
       "      <td>84.0</td>\n",
       "      <td>14260</td>\n",
       "      <td>Pave</td>\n",
       "      <td>NaN</td>\n",
       "      <td>IR1</td>\n",
       "      <td>Lvl</td>\n",
       "      <td>AllPub</td>\n",
       "      <td>...</td>\n",
       "      <td>0</td>\n",
       "      <td>NaN</td>\n",
       "      <td>NaN</td>\n",
       "      <td>NaN</td>\n",
       "      <td>0</td>\n",
       "      <td>12</td>\n",
       "      <td>2008</td>\n",
       "      <td>WD</td>\n",
       "      <td>Normal</td>\n",
       "      <td>250000</td>\n",
       "    </tr>\n",
       "  </tbody>\n",
       "</table>\n",
       "<p>5 rows × 81 columns</p>\n",
       "</div>"
      ],
      "text/plain": [
       "   Id  MSSubClass MSZoning  LotFrontage  LotArea Street Alley LotShape  \\\n",
       "0   1          60       RL         65.0     8450   Pave   NaN      Reg   \n",
       "1   2          20       RL         80.0     9600   Pave   NaN      Reg   \n",
       "2   3          60       RL         68.0    11250   Pave   NaN      IR1   \n",
       "3   4          70       RL         60.0     9550   Pave   NaN      IR1   \n",
       "4   5          60       RL         84.0    14260   Pave   NaN      IR1   \n",
       "\n",
       "  LandContour Utilities  ... PoolArea PoolQC Fence MiscFeature MiscVal MoSold  \\\n",
       "0         Lvl    AllPub  ...        0    NaN   NaN         NaN       0      2   \n",
       "1         Lvl    AllPub  ...        0    NaN   NaN         NaN       0      5   \n",
       "2         Lvl    AllPub  ...        0    NaN   NaN         NaN       0      9   \n",
       "3         Lvl    AllPub  ...        0    NaN   NaN         NaN       0      2   \n",
       "4         Lvl    AllPub  ...        0    NaN   NaN         NaN       0     12   \n",
       "\n",
       "  YrSold  SaleType  SaleCondition  SalePrice  \n",
       "0   2008        WD         Normal     208500  \n",
       "1   2007        WD         Normal     181500  \n",
       "2   2008        WD         Normal     223500  \n",
       "3   2006        WD        Abnorml     140000  \n",
       "4   2008        WD         Normal     250000  \n",
       "\n",
       "[5 rows x 81 columns]"
      ]
     },
     "execution_count": 4,
     "metadata": {},
     "output_type": "execute_result"
    }
   ],
   "source": [
    "train.head()"
   ]
  },
  {
   "cell_type": "code",
   "execution_count": 5,
   "metadata": {},
   "outputs": [
    {
     "data": {
      "text/plain": [
       "Index(['Id', 'MSSubClass', 'MSZoning', 'LotFrontage', 'LotArea', 'Street',\n",
       "       'Alley', 'LotShape', 'LandContour', 'Utilities', 'LotConfig',\n",
       "       'LandSlope', 'Neighborhood', 'Condition1', 'Condition2', 'BldgType',\n",
       "       'HouseStyle', 'OverallQual', 'OverallCond', 'YearBuilt', 'YearRemodAdd',\n",
       "       'RoofStyle', 'RoofMatl', 'Exterior1st', 'Exterior2nd', 'MasVnrType',\n",
       "       'MasVnrArea', 'ExterQual', 'ExterCond', 'Foundation', 'BsmtQual',\n",
       "       'BsmtCond', 'BsmtExposure', 'BsmtFinType1', 'BsmtFinSF1',\n",
       "       'BsmtFinType2', 'BsmtFinSF2', 'BsmtUnfSF', 'TotalBsmtSF', 'Heating',\n",
       "       'HeatingQC', 'CentralAir', 'Electrical', '1stFlrSF', '2ndFlrSF',\n",
       "       'LowQualFinSF', 'GrLivArea', 'BsmtFullBath', 'BsmtHalfBath', 'FullBath',\n",
       "       'HalfBath', 'BedroomAbvGr', 'KitchenAbvGr', 'KitchenQual',\n",
       "       'TotRmsAbvGrd', 'Functional', 'Fireplaces', 'FireplaceQu', 'GarageType',\n",
       "       'GarageYrBlt', 'GarageFinish', 'GarageCars', 'GarageArea', 'GarageQual',\n",
       "       'GarageCond', 'PavedDrive', 'WoodDeckSF', 'OpenPorchSF',\n",
       "       'EnclosedPorch', '3SsnPorch', 'ScreenPorch', 'PoolArea', 'PoolQC',\n",
       "       'Fence', 'MiscFeature', 'MiscVal', 'MoSold', 'YrSold', 'SaleType',\n",
       "       'SaleCondition', 'SalePrice'],\n",
       "      dtype='object')"
      ]
     },
     "execution_count": 5,
     "metadata": {},
     "output_type": "execute_result"
    }
   ],
   "source": [
    "train.columns"
   ]
  },
  {
   "cell_type": "code",
   "execution_count": 6,
   "metadata": {},
   "outputs": [
    {
     "name": "stdout",
     "output_type": "stream",
     "text": [
      "<class 'pandas.core.frame.DataFrame'>\n",
      "RangeIndex: 1460 entries, 0 to 1459\n",
      "Data columns (total 81 columns):\n",
      " #   Column         Non-Null Count  Dtype  \n",
      "---  ------         --------------  -----  \n",
      " 0   Id             1460 non-null   int64  \n",
      " 1   MSSubClass     1460 non-null   int64  \n",
      " 2   MSZoning       1460 non-null   object \n",
      " 3   LotFrontage    1201 non-null   float64\n",
      " 4   LotArea        1460 non-null   int64  \n",
      " 5   Street         1460 non-null   object \n",
      " 6   Alley          91 non-null     object \n",
      " 7   LotShape       1460 non-null   object \n",
      " 8   LandContour    1460 non-null   object \n",
      " 9   Utilities      1460 non-null   object \n",
      " 10  LotConfig      1460 non-null   object \n",
      " 11  LandSlope      1460 non-null   object \n",
      " 12  Neighborhood   1460 non-null   object \n",
      " 13  Condition1     1460 non-null   object \n",
      " 14  Condition2     1460 non-null   object \n",
      " 15  BldgType       1460 non-null   object \n",
      " 16  HouseStyle     1460 non-null   object \n",
      " 17  OverallQual    1460 non-null   int64  \n",
      " 18  OverallCond    1460 non-null   int64  \n",
      " 19  YearBuilt      1460 non-null   int64  \n",
      " 20  YearRemodAdd   1460 non-null   int64  \n",
      " 21  RoofStyle      1460 non-null   object \n",
      " 22  RoofMatl       1460 non-null   object \n",
      " 23  Exterior1st    1460 non-null   object \n",
      " 24  Exterior2nd    1460 non-null   object \n",
      " 25  MasVnrType     1452 non-null   object \n",
      " 26  MasVnrArea     1452 non-null   float64\n",
      " 27  ExterQual      1460 non-null   object \n",
      " 28  ExterCond      1460 non-null   object \n",
      " 29  Foundation     1460 non-null   object \n",
      " 30  BsmtQual       1423 non-null   object \n",
      " 31  BsmtCond       1423 non-null   object \n",
      " 32  BsmtExposure   1422 non-null   object \n",
      " 33  BsmtFinType1   1423 non-null   object \n",
      " 34  BsmtFinSF1     1460 non-null   int64  \n",
      " 35  BsmtFinType2   1422 non-null   object \n",
      " 36  BsmtFinSF2     1460 non-null   int64  \n",
      " 37  BsmtUnfSF      1460 non-null   int64  \n",
      " 38  TotalBsmtSF    1460 non-null   int64  \n",
      " 39  Heating        1460 non-null   object \n",
      " 40  HeatingQC      1460 non-null   object \n",
      " 41  CentralAir     1460 non-null   object \n",
      " 42  Electrical     1459 non-null   object \n",
      " 43  1stFlrSF       1460 non-null   int64  \n",
      " 44  2ndFlrSF       1460 non-null   int64  \n",
      " 45  LowQualFinSF   1460 non-null   int64  \n",
      " 46  GrLivArea      1460 non-null   int64  \n",
      " 47  BsmtFullBath   1460 non-null   int64  \n",
      " 48  BsmtHalfBath   1460 non-null   int64  \n",
      " 49  FullBath       1460 non-null   int64  \n",
      " 50  HalfBath       1460 non-null   int64  \n",
      " 51  BedroomAbvGr   1460 non-null   int64  \n",
      " 52  KitchenAbvGr   1460 non-null   int64  \n",
      " 53  KitchenQual    1460 non-null   object \n",
      " 54  TotRmsAbvGrd   1460 non-null   int64  \n",
      " 55  Functional     1460 non-null   object \n",
      " 56  Fireplaces     1460 non-null   int64  \n",
      " 57  FireplaceQu    770 non-null    object \n",
      " 58  GarageType     1379 non-null   object \n",
      " 59  GarageYrBlt    1379 non-null   float64\n",
      " 60  GarageFinish   1379 non-null   object \n",
      " 61  GarageCars     1460 non-null   int64  \n",
      " 62  GarageArea     1460 non-null   int64  \n",
      " 63  GarageQual     1379 non-null   object \n",
      " 64  GarageCond     1379 non-null   object \n",
      " 65  PavedDrive     1460 non-null   object \n",
      " 66  WoodDeckSF     1460 non-null   int64  \n",
      " 67  OpenPorchSF    1460 non-null   int64  \n",
      " 68  EnclosedPorch  1460 non-null   int64  \n",
      " 69  3SsnPorch      1460 non-null   int64  \n",
      " 70  ScreenPorch    1460 non-null   int64  \n",
      " 71  PoolArea       1460 non-null   int64  \n",
      " 72  PoolQC         7 non-null      object \n",
      " 73  Fence          281 non-null    object \n",
      " 74  MiscFeature    54 non-null     object \n",
      " 75  MiscVal        1460 non-null   int64  \n",
      " 76  MoSold         1460 non-null   int64  \n",
      " 77  YrSold         1460 non-null   int64  \n",
      " 78  SaleType       1460 non-null   object \n",
      " 79  SaleCondition  1460 non-null   object \n",
      " 80  SalePrice      1460 non-null   int64  \n",
      "dtypes: float64(3), int64(35), object(43)\n",
      "memory usage: 924.0+ KB\n"
     ]
    }
   ],
   "source": [
    "train.info()"
   ]
  },
  {
   "cell_type": "code",
   "execution_count": 7,
   "metadata": {},
   "outputs": [
    {
     "data": {
      "text/plain": [
       "<AxesSubplot:xlabel='SalePrice', ylabel='Count'>"
      ]
     },
     "execution_count": 7,
     "metadata": {},
     "output_type": "execute_result"
    },
    {
     "data": {
      "image/png": "[encoded data removed]",
      "text/plain": [
       "<Figure size 1152x360 with 1 Axes>"
      ]
     },
     "metadata": {
      "needs_background": "light"
     },
     "output_type": "display_data"
    }
   ],
   "source": [
    "plt.figure(figsize=(16,5))\n",
    "sns.histplot(train['SalePrice'])"
   ]
  },
  {
   "cell_type": "code",
   "execution_count": 8,
   "metadata": {},
   "outputs": [
    {
     "data": {
      "text/html": [
       "<div>\n",
       "<style scoped>\n",
       "    .dataframe tbody tr th:only-of-type {\n",
       "        vertical-align: middle;\n",
       "    }\n",
       "\n",
       "    .dataframe tbody tr th {\n",
       "        vertical-align: top;\n",
       "    }\n",
       "\n",
       "    .dataframe thead th {\n",
       "        text-align: right;\n",
       "    }\n",
       "</style>\n",
       "<table border=\"1\" class=\"dataframe\">\n",
       "  <thead>\n",
       "    <tr style=\"text-align: right;\">\n",
       "      <th></th>\n",
       "      <th>count</th>\n",
       "      <th>mean</th>\n",
       "      <th>std</th>\n",
       "      <th>min</th>\n",
       "      <th>25%</th>\n",
       "      <th>50%</th>\n",
       "      <th>75%</th>\n",
       "      <th>max</th>\n",
       "    </tr>\n",
       "  </thead>\n",
       "  <tbody>\n",
       "    <tr>\n",
       "      <th>Id</th>\n",
       "      <td>1460.0</td>\n",
       "      <td>730.500000</td>\n",
       "      <td>421.610009</td>\n",
       "      <td>1.0</td>\n",
       "      <td>365.75</td>\n",
       "      <td>730.5</td>\n",
       "      <td>1095.25</td>\n",
       "      <td>1460.0</td>\n",
       "    </tr>\n",
       "    <tr>\n",
       "      <th>MSSubClass</th>\n",
       "      <td>1460.0</td>\n",
       "      <td>56.897260</td>\n",
       "      <td>42.300571</td>\n",
       "      <td>20.0</td>\n",
       "      <td>20.00</td>\n",
       "      <td>50.0</td>\n",
       "      <td>70.00</td>\n",
       "      <td>190.0</td>\n",
       "    </tr>\n",
       "    <tr>\n",
       "      <th>LotFrontage</th>\n",
       "      <td>1201.0</td>\n",
       "      <td>70.049958</td>\n",
       "      <td>24.284752</td>\n",
       "      <td>21.0</td>\n",
       "      <td>59.00</td>\n",
       "      <td>69.0</td>\n",
       "      <td>80.00</td>\n",
       "      <td>313.0</td>\n",
       "    </tr>\n",
       "    <tr>\n",
       "      <th>LotArea</th>\n",
       "      <td>1460.0</td>\n",
       "      <td>10516.828082</td>\n",
       "      <td>9981.264932</td>\n",
       "      <td>1300.0</td>\n",
       "      <td>7553.50</td>\n",
       "      <td>9478.5</td>\n",
       "      <td>11601.50</td>\n",
       "      <td>215245.0</td>\n",
       "    </tr>\n",
       "    <tr>\n",
       "      <th>OverallQual</th>\n",
       "      <td>1460.0</td>\n",
       "      <td>6.099315</td>\n",
       "      <td>1.382997</td>\n",
       "      <td>1.0</td>\n",
       "      <td>5.00</td>\n",
       "      <td>6.0</td>\n",
       "      <td>7.00</td>\n",
       "      <td>10.0</td>\n",
       "    </tr>\n",
       "    <tr>\n",
       "      <th>OverallCond</th>\n",
       "      <td>1460.0</td>\n",
       "      <td>5.575342</td>\n",
       "      <td>1.112799</td>\n",
       "      <td>1.0</td>\n",
       "      <td>5.00</td>\n",
       "      <td>5.0</td>\n",
       "      <td>6.00</td>\n",
       "      <td>9.0</td>\n",
       "    </tr>\n",
       "    <tr>\n",
       "      <th>YearBuilt</th>\n",
       "      <td>1460.0</td>\n",
       "      <td>1971.267808</td>\n",
       "      <td>30.202904</td>\n",
       "      <td>1872.0</td>\n",
       "      <td>1954.00</td>\n",
       "      <td>1973.0</td>\n",
       "      <td>2000.00</td>\n",
       "      <td>2010.0</td>\n",
       "    </tr>\n",
       "    <tr>\n",
       "      <th>YearRemodAdd</th>\n",
       "      <td>1460.0</td>\n",
       "      <td>1984.865753</td>\n",
       "      <td>20.645407</td>\n",
       "      <td>1950.0</td>\n",
       "      <td>1967.00</td>\n",
       "      <td>1994.0</td>\n",
       "      <td>2004.00</td>\n",
       "      <td>2010.0</td>\n",
       "    </tr>\n",
       "    <tr>\n",
       "      <th>MasVnrArea</th>\n",
       "      <td>1452.0</td>\n",
       "      <td>103.685262</td>\n",
       "      <td>181.066207</td>\n",
       "      <td>0.0</td>\n",
       "      <td>0.00</td>\n",
       "      <td>0.0</td>\n",
       "      <td>166.00</td>\n",
       "      <td>1600.0</td>\n",
       "    </tr>\n",
       "    <tr>\n",
       "      <th>BsmtFinSF1</th>\n",
       "      <td>1460.0</td>\n",
       "      <td>443.639726</td>\n",
       "      <td>456.098091</td>\n",
       "      <td>0.0</td>\n",
       "      <td>0.00</td>\n",
       "      <td>383.5</td>\n",
       "      <td>712.25</td>\n",
       "      <td>5644.0</td>\n",
       "    </tr>\n",
       "    <tr>\n",
       "      <th>BsmtFinSF2</th>\n",
       "      <td>1460.0</td>\n",
       "      <td>46.549315</td>\n",
       "      <td>161.319273</td>\n",
       "      <td>0.0</td>\n",
       "      <td>0.00</td>\n",
       "      <td>0.0</td>\n",
       "      <td>0.00</td>\n",
       "      <td>1474.0</td>\n",
       "    </tr>\n",
       "    <tr>\n",
       "      <th>BsmtUnfSF</th>\n",
       "      <td>1460.0</td>\n",
       "      <td>567.240411</td>\n",
       "      <td>441.866955</td>\n",
       "      <td>0.0</td>\n",
       "      <td>223.00</td>\n",
       "      <td>477.5</td>\n",
       "      <td>808.00</td>\n",
       "      <td>2336.0</td>\n",
       "    </tr>\n",
       "    <tr>\n",
       "      <th>TotalBsmtSF</th>\n",
       "      <td>1460.0</td>\n",
       "      <td>1057.429452</td>\n",
       "      <td>438.705324</td>\n",
       "      <td>0.0</td>\n",
       "      <td>795.75</td>\n",
       "      <td>991.5</td>\n",
       "      <td>1298.25</td>\n",
       "      <td>6110.0</td>\n",
       "    </tr>\n",
       "    <tr>\n",
       "      <th>1stFlrSF</th>\n",
       "      <td>1460.0</td>\n",
       "      <td>1162.626712</td>\n",
       "      <td>386.587738</td>\n",
       "      <td>334.0</td>\n",
       "      <td>882.00</td>\n",
       "      <td>1087.0</td>\n",
       "      <td>1391.25</td>\n",
       "      <td>4692.0</td>\n",
       "    </tr>\n",
       "    <tr>\n",
       "      <th>2ndFlrSF</th>\n",
       "      <td>1460.0</td>\n",
       "      <td>346.992466</td>\n",
       "      <td>436.528436</td>\n",
       "      <td>0.0</td>\n",
       "      <td>0.00</td>\n",
       "      <td>0.0</td>\n",
       "      <td>728.00</td>\n",
       "      <td>2065.0</td>\n",
       "    </tr>\n",
       "    <tr>\n",
       "      <th>LowQualFinSF</th>\n",
       "      <td>1460.0</td>\n",
       "      <td>5.844521</td>\n",
       "      <td>48.623081</td>\n",
       "      <td>0.0</td>\n",
       "      <td>0.00</td>\n",
       "      <td>0.0</td>\n",
       "      <td>0.00</td>\n",
       "      <td>572.0</td>\n",
       "    </tr>\n",
       "    <tr>\n",
       "      <th>GrLivArea</th>\n",
       "      <td>1460.0</td>\n",
       "      <td>1515.463699</td>\n",
       "      <td>525.480383</td>\n",
       "      <td>334.0</td>\n",
       "      <td>1129.50</td>\n",
       "      <td>1464.0</td>\n",
       "      <td>1776.75</td>\n",
       "      <td>5642.0</td>\n",
       "    </tr>\n",
       "    <tr>\n",
       "      <th>BsmtFullBath</th>\n",
       "      <td>1460.0</td>\n",
       "      <td>0.425342</td>\n",
       "      <td>0.518911</td>\n",
       "      <td>0.0</td>\n",
       "      <td>0.00</td>\n",
       "      <td>0.0</td>\n",
       "      <td>1.00</td>\n",
       "      <td>3.0</td>\n",
       "    </tr>\n",
       "    <tr>\n",
       "      <th>BsmtHalfBath</th>\n",
       "      <td>1460.0</td>\n",
       "      <td>0.057534</td>\n",
       "      <td>0.238753</td>\n",
       "      <td>0.0</td>\n",
       "      <td>0.00</td>\n",
       "      <td>0.0</td>\n",
       "      <td>0.00</td>\n",
       "      <td>2.0</td>\n",
       "    </tr>\n",
       "    <tr>\n",
       "      <th>FullBath</th>\n",
       "      <td>1460.0</td>\n",
       "      <td>1.565068</td>\n",
       "      <td>0.550916</td>\n",
       "      <td>0.0</td>\n",
       "      <td>1.00</td>\n",
       "      <td>2.0</td>\n",
       "      <td>2.00</td>\n",
       "      <td>3.0</td>\n",
       "    </tr>\n",
       "    <tr>\n",
       "      <th>HalfBath</th>\n",
       "      <td>1460.0</td>\n",
       "      <td>0.382877</td>\n",
       "      <td>0.502885</td>\n",
       "      <td>0.0</td>\n",
       "      <td>0.00</td>\n",
       "      <td>0.0</td>\n",
       "      <td>1.00</td>\n",
       "      <td>2.0</td>\n",
       "    </tr>\n",
       "    <tr>\n",
       "      <th>BedroomAbvGr</th>\n",
       "      <td>1460.0</td>\n",
       "      <td>2.866438</td>\n",
       "      <td>0.815778</td>\n",
       "      <td>0.0</td>\n",
       "      <td>2.00</td>\n",
       "      <td>3.0</td>\n",
       "      <td>3.00</td>\n",
       "      <td>8.0</td>\n",
       "    </tr>\n",
       "    <tr>\n",
       "      <th>KitchenAbvGr</th>\n",
       "      <td>1460.0</td>\n",
       "      <td>1.046575</td>\n",
       "      <td>0.220338</td>\n",
       "      <td>0.0</td>\n",
       "      <td>1.00</td>\n",
       "      <td>1.0</td>\n",
       "      <td>1.00</td>\n",
       "      <td>3.0</td>\n",
       "    </tr>\n",
       "    <tr>\n",
       "      <th>TotRmsAbvGrd</th>\n",
       "      <td>1460.0</td>\n",
       "      <td>6.517808</td>\n",
       "      <td>1.625393</td>\n",
       "      <td>2.0</td>\n",
       "      <td>5.00</td>\n",
       "      <td>6.0</td>\n",
       "      <td>7.00</td>\n",
       "      <td>14.0</td>\n",
       "    </tr>\n",
       "    <tr>\n",
       "      <th>Fireplaces</th>\n",
       "      <td>1460.0</td>\n",
       "      <td>0.613014</td>\n",
       "      <td>0.644666</td>\n",
       "      <td>0.0</td>\n",
       "      <td>0.00</td>\n",
       "      <td>1.0</td>\n",
       "      <td>1.00</td>\n",
       "      <td>3.0</td>\n",
       "    </tr>\n",
       "    <tr>\n",
       "      <th>GarageYrBlt</th>\n",
       "      <td>1379.0</td>\n",
       "      <td>1978.506164</td>\n",
       "      <td>24.689725</td>\n",
       "      <td>1900.0</td>\n",
       "      <td>1961.00</td>\n",
       "      <td>1980.0</td>\n",
       "      <td>2002.00</td>\n",
       "      <td>2010.0</td>\n",
       "    </tr>\n",
       "    <tr>\n",
       "      <th>GarageCars</th>\n",
       "      <td>1460.0</td>\n",
       "      <td>1.767123</td>\n",
       "      <td>0.747315</td>\n",
       "      <td>0.0</td>\n",
       "      <td>1.00</td>\n",
       "      <td>2.0</td>\n",
       "      <td>2.00</td>\n",
       "      <td>4.0</td>\n",
       "    </tr>\n",
       "    <tr>\n",
       "      <th>GarageArea</th>\n",
       "      <td>1460.0</td>\n",
       "      <td>472.980137</td>\n",
       "      <td>213.804841</td>\n",
       "      <td>0.0</td>\n",
       "      <td>334.50</td>\n",
       "      <td>480.0</td>\n",
       "      <td>576.00</td>\n",
       "      <td>1418.0</td>\n",
       "    </tr>\n",
       "    <tr>\n",
       "      <th>WoodDeckSF</th>\n",
       "      <td>1460.0</td>\n",
       "      <td>94.244521</td>\n",
       "      <td>125.338794</td>\n",
       "      <td>0.0</td>\n",
       "      <td>0.00</td>\n",
       "      <td>0.0</td>\n",
       "      <td>168.00</td>\n",
       "      <td>857.0</td>\n",
       "    </tr>\n",
       "    <tr>\n",
       "      <th>OpenPorchSF</th>\n",
       "      <td>1460.0</td>\n",
       "      <td>46.660274</td>\n",
       "      <td>66.256028</td>\n",
       "      <td>0.0</td>\n",
       "      <td>0.00</td>\n",
       "      <td>25.0</td>\n",
       "      <td>68.00</td>\n",
       "      <td>547.0</td>\n",
       "    </tr>\n",
       "    <tr>\n",
       "      <th>EnclosedPorch</th>\n",
       "      <td>1460.0</td>\n",
       "      <td>21.954110</td>\n",
       "      <td>61.119149</td>\n",
       "      <td>0.0</td>\n",
       "      <td>0.00</td>\n",
       "      <td>0.0</td>\n",
       "      <td>0.00</td>\n",
       "      <td>552.0</td>\n",
       "    </tr>\n",
       "    <tr>\n",
       "      <th>3SsnPorch</th>\n",
       "      <td>1460.0</td>\n",
       "      <td>3.409589</td>\n",
       "      <td>29.317331</td>\n",
       "      <td>0.0</td>\n",
       "      <td>0.00</td>\n",
       "      <td>0.0</td>\n",
       "      <td>0.00</td>\n",
       "      <td>508.0</td>\n",
       "    </tr>\n",
       "    <tr>\n",
       "      <th>ScreenPorch</th>\n",
       "      <td>1460.0</td>\n",
       "      <td>15.060959</td>\n",
       "      <td>55.757415</td>\n",
       "      <td>0.0</td>\n",
       "      <td>0.00</td>\n",
       "      <td>0.0</td>\n",
       "      <td>0.00</td>\n",
       "      <td>480.0</td>\n",
       "    </tr>\n",
       "    <tr>\n",
       "      <th>PoolArea</th>\n",
       "      <td>1460.0</td>\n",
       "      <td>2.758904</td>\n",
       "      <td>40.177307</td>\n",
       "      <td>0.0</td>\n",
       "      <td>0.00</td>\n",
       "      <td>0.0</td>\n",
       "      <td>0.00</td>\n",
       "      <td>738.0</td>\n",
       "    </tr>\n",
       "    <tr>\n",
       "      <th>MiscVal</th>\n",
       "      <td>1460.0</td>\n",
       "      <td>43.489041</td>\n",
       "      <td>496.123024</td>\n",
       "      <td>0.0</td>\n",
       "      <td>0.00</td>\n",
       "      <td>0.0</td>\n",
       "      <td>0.00</td>\n",
       "      <td>15500.0</td>\n",
       "    </tr>\n",
       "    <tr>\n",
       "      <th>MoSold</th>\n",
       "      <td>1460.0</td>\n",
       "      <td>6.321918</td>\n",
       "      <td>2.703626</td>\n",
       "      <td>1.0</td>\n",
       "      <td>5.00</td>\n",
       "      <td>6.0</td>\n",
       "      <td>8.00</td>\n",
       "      <td>12.0</td>\n",
       "    </tr>\n",
       "    <tr>\n",
       "      <th>YrSold</th>\n",
       "      <td>1460.0</td>\n",
       "      <td>2007.815753</td>\n",
       "      <td>1.328095</td>\n",
       "      <td>2006.0</td>\n",
       "      <td>2007.00</td>\n",
       "      <td>2008.0</td>\n",
       "      <td>2009.00</td>\n",
       "      <td>2010.0</td>\n",
       "    </tr>\n",
       "    <tr>\n",
       "      <th>SalePrice</th>\n",
       "      <td>1460.0</td>\n",
       "      <td>180921.195890</td>\n",
       "      <td>79442.502883</td>\n",
       "      <td>34900.0</td>\n",
       "      <td>129975.00</td>\n",
       "      <td>163000.0</td>\n",
       "      <td>214000.00</td>\n",
       "      <td>755000.0</td>\n",
       "    </tr>\n",
       "  </tbody>\n",
       "</table>\n",
       "</div>"
      ],
      "text/plain": [
       "                count           mean           std      min        25%  \\\n",
       "Id             1460.0     730.500000    421.610009      1.0     365.75   \n",
       "MSSubClass     1460.0      56.897260     42.300571     20.0      20.00   \n",
       "LotFrontage    1201.0      70.049958     24.284752     21.0      59.00   \n",
       "LotArea        1460.0   10516.828082   9981.264932   1300.0    7553.50   \n",
       "OverallQual    1460.0       6.099315      1.382997      1.0       5.00   \n",
       "OverallCond    1460.0       5.575342      1.112799      1.0       5.00   \n",
       "YearBuilt      1460.0    1971.267808     30.202904   1872.0    1954.00   \n",
       "YearRemodAdd   1460.0    1984.865753     20.645407   1950.0    1967.00   \n",
       "MasVnrArea     1452.0     103.685262    181.066207      0.0       0.00   \n",
       "BsmtFinSF1     1460.0     443.639726    456.098091      0.0       0.00   \n",
       "BsmtFinSF2     1460.0      46.549315    161.319273      0.0       0.00   \n",
       "BsmtUnfSF      1460.0     567.240411    441.866955      0.0     223.00   \n",
       "TotalBsmtSF    1460.0    1057.429452    438.705324      0.0     795.75   \n",
       "1stFlrSF       1460.0    1162.626712    386.587738    334.0     882.00   \n",
       "2ndFlrSF       1460.0     346.992466    436.528436      0.0       0.00   \n",
       "LowQualFinSF   1460.0       5.844521     48.623081      0.0       0.00   \n",
       "GrLivArea      1460.0    1515.463699    525.480383    334.0    1129.50   \n",
       "BsmtFullBath   1460.0       0.425342      0.518911      0.0       0.00   \n",
       "BsmtHalfBath   1460.0       0.057534      0.238753      0.0       0.00   \n",
       "FullBath       1460.0       1.565068      0.550916      0.0       1.00   \n",
       "HalfBath       1460.0       0.382877      0.502885      0.0       0.00   \n",
       "BedroomAbvGr   1460.0       2.866438      0.815778      0.0       2.00   \n",
       "KitchenAbvGr   1460.0       1.046575      0.220338      0.0       1.00   \n",
       "TotRmsAbvGrd   1460.0       6.517808      1.625393      2.0       5.00   \n",
       "Fireplaces     1460.0       0.613014      0.644666      0.0       0.00   \n",
       "GarageYrBlt    1379.0    1978.506164     24.689725   1900.0    1961.00   \n",
       "GarageCars     1460.0       1.767123      0.747315      0.0       1.00   \n",
       "GarageArea     1460.0     472.980137    213.804841      0.0     334.50   \n",
       "WoodDeckSF     1460.0      94.244521    125.338794      0.0       0.00   \n",
       "OpenPorchSF    1460.0      46.660274     66.256028      0.0       0.00   \n",
       "EnclosedPorch  1460.0      21.954110     61.119149      0.0       0.00   \n",
       "3SsnPorch      1460.0       3.409589     29.317331      0.0       0.00   \n",
       "ScreenPorch    1460.0      15.060959     55.757415      0.0       0.00   \n",
       "PoolArea       1460.0       2.758904     40.177307      0.0       0.00   \n",
       "MiscVal        1460.0      43.489041    496.123024      0.0       0.00   \n",
       "MoSold         1460.0       6.321918      2.703626      1.0       5.00   \n",
       "YrSold         1460.0    2007.815753      1.328095   2006.0    2007.00   \n",
       "SalePrice      1460.0  180921.195890  79442.502883  34900.0  129975.00   \n",
       "\n",
       "                    50%        75%       max  \n",
       "Id                730.5    1095.25    1460.0  \n",
       "MSSubClass         50.0      70.00     190.0  \n",
       "LotFrontage        69.0      80.00     313.0  \n",
       "LotArea          9478.5   11601.50  215245.0  \n",
       "OverallQual         6.0       7.00      10.0  \n",
       "OverallCond         5.0       6.00       9.0  \n",
       "YearBuilt        1973.0    2000.00    2010.0  \n",
       "YearRemodAdd     1994.0    2004.00    2010.0  \n",
       "MasVnrArea          0.0     166.00    1600.0  \n",
       "BsmtFinSF1        383.5     712.25    5644.0  \n",
       "BsmtFinSF2          0.0       0.00    1474.0  \n",
       "BsmtUnfSF         477.5     808.00    2336.0  \n",
       "TotalBsmtSF       991.5    1298.25    6110.0  \n",
       "1stFlrSF         1087.0    1391.25    4692.0  \n",
       "2ndFlrSF            0.0     728.00    2065.0  \n",
       "LowQualFinSF        0.0       0.00     572.0  \n",
       "GrLivArea        1464.0    1776.75    5642.0  \n",
       "BsmtFullBath        0.0       1.00       3.0  \n",
       "BsmtHalfBath        0.0       0.00       2.0  \n",
       "FullBath            2.0       2.00       3.0  \n",
       "HalfBath            0.0       1.00       2.0  \n",
       "BedroomAbvGr        3.0       3.00       8.0  \n",
       "KitchenAbvGr        1.0       1.00       3.0  \n",
       "TotRmsAbvGrd        6.0       7.00      14.0  \n",
       "Fireplaces          1.0       1.00       3.0  \n",
       "GarageYrBlt      1980.0    2002.00    2010.0  \n",
       "GarageCars          2.0       2.00       4.0  \n",
       "GarageArea        480.0     576.00    1418.0  \n",
       "WoodDeckSF          0.0     168.00     857.0  \n",
       "OpenPorchSF        25.0      68.00     547.0  \n",
       "EnclosedPorch       0.0       0.00     552.0  \n",
       "3SsnPorch           0.0       0.00     508.0  \n",
       "ScreenPorch         0.0       0.00     480.0  \n",
       "PoolArea            0.0       0.00     738.0  \n",
       "MiscVal             0.0       0.00   15500.0  \n",
       "MoSold              6.0       8.00      12.0  \n",
       "YrSold           2008.0    2009.00    2010.0  \n",
       "SalePrice      163000.0  214000.00  755000.0  "
      ]
     },
     "execution_count": 8,
     "metadata": {},
     "output_type": "execute_result"
    }
   ],
   "source": [
    "train.describe().transpose()"
   ]
  },
  {
   "cell_type": "code",
   "execution_count": 9,
   "metadata": {},
   "outputs": [],
   "source": [
    "# Visualising correlation between numerical variables."
   ]
  },
  {
   "cell_type": "code",
   "execution_count": 10,
   "metadata": {},
   "outputs": [],
   "source": [
    "corr_matrix = train.corr()"
   ]
  },
  {
   "cell_type": "code",
   "execution_count": 11,
   "metadata": {},
   "outputs": [],
   "source": [
    "columns = corr_matrix.nlargest(10,'SalePrice')['SalePrice'].index"
   ]
  },
  {
   "cell_type": "code",
   "execution_count": 12,
   "metadata": {},
   "outputs": [],
   "source": [
    "cm = np.corrcoef(train[columns].values.T)"
   ]
  },
  {
   "cell_type": "code",
   "execution_count": 13,
   "metadata": {},
   "outputs": [
    {
     "data": {
      "text/plain": [
       "(10.0, 0.0)"
      ]
     },
     "execution_count": 13,
     "metadata": {},
     "output_type": "execute_result"
    },
    {
     "data": {
      "image/png": "[encoded data removed]",
      "text/plain": [
       "<Figure size 864x576 with 2 Axes>"
      ]
     },
     "metadata": {
      "needs_background": "light"
     },
     "output_type": "display_data"
    }
   ],
   "source": [
    "plt.figure(figsize=(12,8))\n",
    "sns.set(font_scale=1.1)\n",
    "sns.heatmap(cm,cbar=True, annot = True, square=True, cmap = \"RdPu\",annot_kws = {\"size\": 10},\n",
    "           yticklabels=columns.values, xticklabels=columns.values)\n",
    "plt.ylim(10,0)"
   ]
  },
  {
   "cell_type": "code",
   "execution_count": 14,
   "metadata": {},
   "outputs": [],
   "source": [
    "# Graphs for the top couple of correlated variables to see if there are any outliers. "
   ]
  },
  {
   "cell_type": "code",
   "execution_count": 15,
   "metadata": {},
   "outputs": [
    {
     "data": {
      "text/plain": [
       "<seaborn.axisgrid.FacetGrid at 0x177f9df9388>"
      ]
     },
     "execution_count": 15,
     "metadata": {},
     "output_type": "execute_result"
    },
    {
     "data": {
      "image/png": "[encoded data removed]",
      "text/plain": [
       "<Figure size 360x360 with 1 Axes>"
      ]
     },
     "metadata": {},
     "output_type": "display_data"
    }
   ],
   "source": [
    "sns.lmplot(x='GrLivArea',y='SalePrice',data=train)"
   ]
  },
  {
   "cell_type": "code",
   "execution_count": 16,
   "metadata": {},
   "outputs": [
    {
     "data": {
      "text/plain": [
       "<seaborn.axisgrid.FacetGrid at 0x177f9ee1448>"
      ]
     },
     "execution_count": 16,
     "metadata": {},
     "output_type": "execute_result"
    },
    {
     "data": {
      "image/png": "[encoded data removed]",
      "text/plain": [
       "<Figure size 360x360 with 1 Axes>"
      ]
     },
     "metadata": {},
     "output_type": "display_data"
    }
   ],
   "source": [
    "sns.lmplot(x='OverallQual',y='SalePrice',data=train)"
   ]
  },
  {
   "cell_type": "code",
   "execution_count": 17,
   "metadata": {},
   "outputs": [
    {
     "data": {
      "text/plain": [
       "<seaborn.axisgrid.FacetGrid at 0x177f9aed688>"
      ]
     },
     "execution_count": 17,
     "metadata": {},
     "output_type": "execute_result"
    },
    {
     "data": {
      "image/png": "[encoded data removed]",
      "text/plain": [
       "<Figure size 360x360 with 1 Axes>"
      ]
     },
     "metadata": {},
     "output_type": "display_data"
    }
   ],
   "source": [
    "sns.lmplot(x='GarageCars',y='SalePrice',data=train)"
   ]
  },
  {
   "cell_type": "code",
   "execution_count": 18,
   "metadata": {},
   "outputs": [
    {
     "data": {
      "text/plain": [
       "<seaborn.axisgrid.FacetGrid at 0x177f9f03dc8>"
      ]
     },
     "execution_count": 18,
     "metadata": {},
     "output_type": "execute_result"
    },
    {
     "data": {
      "image/png": "[encoded data removed]",
      "text/plain": [
       "<Figure size 360x360 with 1 Axes>"
      ]
     },
     "metadata": {},
     "output_type": "display_data"
    }
   ],
   "source": [
    "sns.lmplot(x='GarageArea',y='SalePrice',data=train)"
   ]
  },
  {
   "cell_type": "code",
   "execution_count": 19,
   "metadata": {},
   "outputs": [
    {
     "data": {
      "text/html": [
       "<div>\n",
       "<style scoped>\n",
       "    .dataframe tbody tr th:only-of-type {\n",
       "        vertical-align: middle;\n",
       "    }\n",
       "\n",
       "    .dataframe tbody tr th {\n",
       "        vertical-align: top;\n",
       "    }\n",
       "\n",
       "    .dataframe thead th {\n",
       "        text-align: right;\n",
       "    }\n",
       "</style>\n",
       "<table border=\"1\" class=\"dataframe\">\n",
       "  <thead>\n",
       "    <tr style=\"text-align: right;\">\n",
       "      <th></th>\n",
       "      <th>GrLivArea</th>\n",
       "      <th>SalePrice</th>\n",
       "    </tr>\n",
       "  </thead>\n",
       "  <tbody>\n",
       "    <tr>\n",
       "      <th>523</th>\n",
       "      <td>4676</td>\n",
       "      <td>184750</td>\n",
       "    </tr>\n",
       "    <tr>\n",
       "      <th>691</th>\n",
       "      <td>4316</td>\n",
       "      <td>755000</td>\n",
       "    </tr>\n",
       "    <tr>\n",
       "      <th>1182</th>\n",
       "      <td>4476</td>\n",
       "      <td>745000</td>\n",
       "    </tr>\n",
       "    <tr>\n",
       "      <th>1298</th>\n",
       "      <td>5642</td>\n",
       "      <td>160000</td>\n",
       "    </tr>\n",
       "  </tbody>\n",
       "</table>\n",
       "</div>"
      ],
      "text/plain": [
       "      GrLivArea  SalePrice\n",
       "523        4676     184750\n",
       "691        4316     755000\n",
       "1182       4476     745000\n",
       "1298       5642     160000"
      ]
     },
     "execution_count": 19,
     "metadata": {},
     "output_type": "execute_result"
    }
   ],
   "source": [
    "train.loc[train['GrLivArea'] > 4000,['GrLivArea','SalePrice']]"
   ]
  },
  {
   "cell_type": "code",
   "execution_count": 20,
   "metadata": {},
   "outputs": [],
   "source": [
    "# Drop the outliers found in the first graph\n",
    "train.drop(523,inplace=True)\n",
    "train.drop(1298,inplace=True)"
   ]
  },
  {
   "cell_type": "code",
   "execution_count": 21,
   "metadata": {},
   "outputs": [
    {
     "data": {
      "text/plain": [
       "<seaborn.axisgrid.FacetGrid at 0x177f783b988>"
      ]
     },
     "execution_count": 21,
     "metadata": {},
     "output_type": "execute_result"
    },
    {
     "data": {
      "image/png": "[encoded data removed]",
      "text/plain": [
       "<Figure size 360x360 with 1 Axes>"
      ]
     },
     "metadata": {},
     "output_type": "display_data"
    }
   ],
   "source": [
    "sns.lmplot(x='GrLivArea',y='SalePrice',data=train)"
   ]
  },
  {
   "cell_type": "code",
   "execution_count": 22,
   "metadata": {},
   "outputs": [
    {
     "data": {
      "text/html": [
       "<div>\n",
       "<style scoped>\n",
       "    .dataframe tbody tr th:only-of-type {\n",
       "        vertical-align: middle;\n",
       "    }\n",
       "\n",
       "    .dataframe tbody tr th {\n",
       "        vertical-align: top;\n",
       "    }\n",
       "\n",
       "    .dataframe thead th {\n",
       "        text-align: right;\n",
       "    }\n",
       "</style>\n",
       "<table border=\"1\" class=\"dataframe\">\n",
       "  <thead>\n",
       "    <tr style=\"text-align: right;\">\n",
       "      <th></th>\n",
       "      <th>GrLivArea</th>\n",
       "      <th>SalePrice</th>\n",
       "    </tr>\n",
       "  </thead>\n",
       "  <tbody>\n",
       "    <tr>\n",
       "      <th>691</th>\n",
       "      <td>4316</td>\n",
       "      <td>755000</td>\n",
       "    </tr>\n",
       "    <tr>\n",
       "      <th>1182</th>\n",
       "      <td>4476</td>\n",
       "      <td>745000</td>\n",
       "    </tr>\n",
       "  </tbody>\n",
       "</table>\n",
       "</div>"
      ],
      "text/plain": [
       "      GrLivArea  SalePrice\n",
       "691        4316     755000\n",
       "1182       4476     745000"
      ]
     },
     "execution_count": 22,
     "metadata": {},
     "output_type": "execute_result"
    }
   ],
   "source": [
    "train.loc[train['GrLivArea'] > 4000,['GrLivArea','SalePrice']]"
   ]
  },
  {
   "cell_type": "code",
   "execution_count": 23,
   "metadata": {},
   "outputs": [
    {
     "name": "stdout",
     "output_type": "stream",
     "text": [
      "PoolQC          1452\n",
      "MiscFeature     1404\n",
      "Alley           1367\n",
      "Fence           1177\n",
      "FireplaceQu      690\n",
      "LotFrontage      259\n",
      "GarageType        81\n",
      "GarageYrBlt       81\n",
      "GarageFinish      81\n",
      "GarageQual        81\n",
      "GarageCond        81\n",
      "BsmtExposure      38\n",
      "BsmtFinType2      38\n",
      "BsmtQual          37\n",
      "BsmtCond          37\n",
      "BsmtFinType1      37\n",
      "MasVnrType         8\n",
      "MasVnrArea         8\n",
      "Electrical         1\n",
      "Id                 0\n",
      "MSSubClass         0\n",
      "MSZoning           0\n",
      "LotArea            0\n",
      "Street             0\n",
      "LotShape           0\n",
      "LandContour        0\n",
      "Utilities          0\n",
      "LotConfig          0\n",
      "LandSlope          0\n",
      "Neighborhood       0\n",
      "Condition1         0\n",
      "Condition2         0\n",
      "BldgType           0\n",
      "HouseStyle         0\n",
      "OverallQual        0\n",
      "OverallCond        0\n",
      "YearBuilt          0\n",
      "YearRemodAdd       0\n",
      "RoofStyle          0\n",
      "RoofMatl           0\n",
      "dtype: int64\n",
      "PoolQC          1456\n",
      "MiscFeature     1408\n",
      "Alley           1352\n",
      "Fence           1169\n",
      "FireplaceQu      730\n",
      "LotFrontage      227\n",
      "GarageYrBlt       78\n",
      "GarageFinish      78\n",
      "GarageQual        78\n",
      "GarageCond        78\n",
      "GarageType        76\n",
      "BsmtCond          45\n",
      "BsmtQual          44\n",
      "BsmtExposure      44\n",
      "BsmtFinType1      42\n",
      "BsmtFinType2      42\n",
      "MasVnrType        16\n",
      "MasVnrArea        15\n",
      "MSZoning           4\n",
      "Utilities          2\n",
      "BsmtFullBath       2\n",
      "BsmtHalfBath       2\n",
      "Functional         2\n",
      "Exterior1st        1\n",
      "Exterior2nd        1\n",
      "BsmtFinSF1         1\n",
      "BsmtFinSF2         1\n",
      "BsmtUnfSF          1\n",
      "TotalBsmtSF        1\n",
      "KitchenQual        1\n",
      "GarageCars         1\n",
      "GarageArea         1\n",
      "SaleType           1\n",
      "Id                 0\n",
      "MSSubClass         0\n",
      "LotArea            0\n",
      "Street             0\n",
      "LotShape           0\n",
      "LandContour        0\n",
      "LotConfig          0\n",
      "dtype: int64\n"
     ]
    }
   ],
   "source": [
    "for dataset in combine:\n",
    "    print(pd.isna(dataset).sum().nlargest(40))"
   ]
  },
  {
   "cell_type": "code",
   "execution_count": 24,
   "metadata": {},
   "outputs": [],
   "source": [
    "# Filling in the missing values Most of these will be a simple fix."
   ]
  },
  {
   "cell_type": "code",
   "execution_count": 25,
   "metadata": {},
   "outputs": [],
   "source": [
    "# Working on the train set"
   ]
  },
  {
   "cell_type": "code",
   "execution_count": 26,
   "metadata": {},
   "outputs": [
    {
     "data": {
      "text/plain": [
       "PoolQC          1452\n",
       "MiscFeature     1404\n",
       "Alley           1367\n",
       "Fence           1177\n",
       "FireplaceQu      690\n",
       "LotFrontage      259\n",
       "GarageType        81\n",
       "GarageYrBlt       81\n",
       "GarageFinish      81\n",
       "GarageQual        81\n",
       "GarageCond        81\n",
       "BsmtExposure      38\n",
       "BsmtFinType2      38\n",
       "BsmtQual          37\n",
       "BsmtCond          37\n",
       "BsmtFinType1      37\n",
       "MasVnrType         8\n",
       "MasVnrArea         8\n",
       "Electrical         1\n",
       "Id                 0\n",
       "MSSubClass         0\n",
       "MSZoning           0\n",
       "LotArea            0\n",
       "Street             0\n",
       "LotShape           0\n",
       "LandContour        0\n",
       "Utilities          0\n",
       "LotConfig          0\n",
       "LandSlope          0\n",
       "Neighborhood       0\n",
       "Condition1         0\n",
       "Condition2         0\n",
       "dtype: int64"
      ]
     },
     "execution_count": 26,
     "metadata": {},
     "output_type": "execute_result"
    }
   ],
   "source": [
    "pd.isna(train).sum().nlargest(32)"
   ]
  },
  {
   "cell_type": "code",
   "execution_count": 27,
   "metadata": {},
   "outputs": [],
   "source": [
    "# PoolQC NA represent no pool, so lets fill that in. "
   ]
  },
  {
   "cell_type": "code",
   "execution_count": 28,
   "metadata": {},
   "outputs": [],
   "source": [
    "NoneFill = ['PoolQC', 'MiscFeature', 'Alley', 'Fence', 'FireplaceQu','BsmtQual','BsmtCond','BsmtFinType1','BsmtFinType2',\n",
    "           'GarageType', 'GarageFinish', 'GarageQual', 'GarageCond', 'BsmtExposure','GarageQual','GarageCond',\n",
    "           'BsmtExposure','MasVnrType']\n",
    "for column in NoneFill:\n",
    "    train[column].fillna(\"None\",inplace=True)\n",
    "    pd.isna(train[NoneFill]).sum()"
   ]
  },
  {
   "cell_type": "code",
   "execution_count": 29,
   "metadata": {},
   "outputs": [],
   "source": [
    "# I will have to impute the value for LotFrontage.\n",
    "# I could look at the average lotfrontage for the neighbourhood."
   ]
  },
  {
   "cell_type": "code",
   "execution_count": 30,
   "metadata": {},
   "outputs": [],
   "source": [
    "# Fills in NA values using average LotFrontage for each neighborhood.\n",
    "train['LotFrontage'] = train.groupby('Neighborhood')['LotFrontage'].transform(lambda x: x.fillna(x.mean()))"
   ]
  },
  {
   "cell_type": "code",
   "execution_count": 31,
   "metadata": {},
   "outputs": [
    {
     "data": {
      "text/plain": [
       "0"
      ]
     },
     "execution_count": 31,
     "metadata": {},
     "output_type": "execute_result"
    }
   ],
   "source": [
    "train['GarageYrBlt'].fillna(0,inplace=True)\n",
    "pd.isna(train['GarageYrBlt']).sum()"
   ]
  },
  {
   "cell_type": "code",
   "execution_count": 32,
   "metadata": {},
   "outputs": [
    {
     "data": {
      "text/plain": [
       "MasVnrArea     8\n",
       "Electrical     1\n",
       "Id             0\n",
       "MSSubClass     0\n",
       "MSZoning       0\n",
       "LotFrontage    0\n",
       "LotArea        0\n",
       "Street         0\n",
       "Alley          0\n",
       "LotShape       0\n",
       "dtype: int64"
      ]
     },
     "execution_count": 32,
     "metadata": {},
     "output_type": "execute_result"
    }
   ],
   "source": [
    "pd.isna(train).sum().nlargest(10)"
   ]
  },
  {
   "cell_type": "code",
   "execution_count": 33,
   "metadata": {},
   "outputs": [
    {
     "data": {
      "text/plain": [
       "0"
      ]
     },
     "execution_count": 33,
     "metadata": {},
     "output_type": "execute_result"
    }
   ],
   "source": [
    "train['MasVnrArea'].fillna(0,inplace=True)\n",
    "pd.isna(train['MasVnrArea']).sum()"
   ]
  },
  {
   "cell_type": "code",
   "execution_count": 34,
   "metadata": {},
   "outputs": [],
   "source": [
    "train['Electrical'].fillna(train['Electrical'].mode()[0],inplace=True)"
   ]
  },
  {
   "cell_type": "code",
   "execution_count": 35,
   "metadata": {},
   "outputs": [
    {
     "data": {
      "text/plain": [
       "Id             0\n",
       "MSSubClass     0\n",
       "MSZoning       0\n",
       "LotFrontage    0\n",
       "LotArea        0\n",
       "Street         0\n",
       "Alley          0\n",
       "LotShape       0\n",
       "LandContour    0\n",
       "Utilities      0\n",
       "dtype: int64"
      ]
     },
     "execution_count": 35,
     "metadata": {},
     "output_type": "execute_result"
    }
   ],
   "source": [
    "pd.isna(train).sum().nlargest(10)"
   ]
  },
  {
   "cell_type": "code",
   "execution_count": 36,
   "metadata": {},
   "outputs": [
    {
     "data": {
      "text/plain": [
       "PoolQC          1456\n",
       "MiscFeature     1408\n",
       "Alley           1352\n",
       "Fence           1169\n",
       "FireplaceQu      730\n",
       "LotFrontage      227\n",
       "GarageYrBlt       78\n",
       "GarageFinish      78\n",
       "GarageQual        78\n",
       "GarageCond        78\n",
       "GarageType        76\n",
       "BsmtCond          45\n",
       "BsmtQual          44\n",
       "BsmtExposure      44\n",
       "BsmtFinType1      42\n",
       "BsmtFinType2      42\n",
       "MasVnrType        16\n",
       "MasVnrArea        15\n",
       "MSZoning           4\n",
       "Utilities          2\n",
       "BsmtFullBath       2\n",
       "BsmtHalfBath       2\n",
       "Functional         2\n",
       "Exterior1st        1\n",
       "Exterior2nd        1\n",
       "BsmtFinSF1         1\n",
       "BsmtFinSF2         1\n",
       "BsmtUnfSF          1\n",
       "TotalBsmtSF        1\n",
       "KitchenQual        1\n",
       "GarageCars         1\n",
       "GarageArea         1\n",
       "SaleType           1\n",
       "Id                 0\n",
       "MSSubClass         0\n",
       "dtype: int64"
      ]
     },
     "execution_count": 36,
     "metadata": {},
     "output_type": "execute_result"
    }
   ],
   "source": [
    "# Now I will begin filling in the missing values for the test set\n",
    "pd.isna(test).sum().nlargest(35)"
   ]
  },
  {
   "cell_type": "code",
   "execution_count": 37,
   "metadata": {},
   "outputs": [],
   "source": [
    "# Fill missing values with None\n",
    "fillnone = ['PoolQC','MiscFeature','Alley','Fence','FireplaceQu','GarageFinish','GarageQual','GarageCond','GarageType',\n",
    "           'BsmtQual','BsmtCond','BsmtExposure','BsmtFinType1','BsmtFinType2']"
   ]
  },
  {
   "cell_type": "code",
   "execution_count": 38,
   "metadata": {},
   "outputs": [
    {
     "name": "stdout",
     "output_type": "stream",
     "text": [
      "0\n",
      "0\n",
      "0\n",
      "0\n",
      "0\n",
      "0\n",
      "0\n",
      "0\n",
      "0\n",
      "0\n",
      "0\n",
      "0\n",
      "0\n",
      "0\n"
     ]
    }
   ],
   "source": [
    "for i in fillnone:\n",
    "    test[i].fillna('None',inplace=True)\n",
    "    print(pd.isna(test[i]).sum())"
   ]
  },
  {
   "cell_type": "code",
   "execution_count": 39,
   "metadata": {},
   "outputs": [
    {
     "data": {
      "text/plain": [
       "LotFrontage     227\n",
       "GarageYrBlt      78\n",
       "MasVnrType       16\n",
       "MasVnrArea       15\n",
       "MSZoning          4\n",
       "Utilities         2\n",
       "BsmtFullBath      2\n",
       "BsmtHalfBath      2\n",
       "Functional        2\n",
       "Exterior1st       1\n",
       "Exterior2nd       1\n",
       "BsmtFinSF1        1\n",
       "BsmtFinSF2        1\n",
       "BsmtUnfSF         1\n",
       "TotalBsmtSF       1\n",
       "KitchenQual       1\n",
       "GarageCars        1\n",
       "GarageArea        1\n",
       "SaleType          1\n",
       "Id                0\n",
       "dtype: int64"
      ]
     },
     "execution_count": 39,
     "metadata": {},
     "output_type": "execute_result"
    }
   ],
   "source": [
    "pd.isna(test).sum().nlargest(20)"
   ]
  },
  {
   "cell_type": "code",
   "execution_count": 40,
   "metadata": {},
   "outputs": [
    {
     "data": {
      "text/html": [
       "<div>\n",
       "<style scoped>\n",
       "    .dataframe tbody tr th:only-of-type {\n",
       "        vertical-align: middle;\n",
       "    }\n",
       "\n",
       "    .dataframe tbody tr th {\n",
       "        vertical-align: top;\n",
       "    }\n",
       "\n",
       "    .dataframe thead th {\n",
       "        text-align: right;\n",
       "    }\n",
       "</style>\n",
       "<table border=\"1\" class=\"dataframe\">\n",
       "  <thead>\n",
       "    <tr style=\"text-align: right;\">\n",
       "      <th></th>\n",
       "      <th>MasVnrType</th>\n",
       "      <th>MasVnrArea</th>\n",
       "    </tr>\n",
       "  </thead>\n",
       "  <tbody>\n",
       "    <tr>\n",
       "      <th>231</th>\n",
       "      <td>NaN</td>\n",
       "      <td>NaN</td>\n",
       "    </tr>\n",
       "    <tr>\n",
       "      <th>246</th>\n",
       "      <td>NaN</td>\n",
       "      <td>NaN</td>\n",
       "    </tr>\n",
       "    <tr>\n",
       "      <th>422</th>\n",
       "      <td>NaN</td>\n",
       "      <td>NaN</td>\n",
       "    </tr>\n",
       "    <tr>\n",
       "      <th>532</th>\n",
       "      <td>NaN</td>\n",
       "      <td>NaN</td>\n",
       "    </tr>\n",
       "    <tr>\n",
       "      <th>544</th>\n",
       "      <td>NaN</td>\n",
       "      <td>NaN</td>\n",
       "    </tr>\n",
       "    <tr>\n",
       "      <th>581</th>\n",
       "      <td>NaN</td>\n",
       "      <td>NaN</td>\n",
       "    </tr>\n",
       "    <tr>\n",
       "      <th>851</th>\n",
       "      <td>NaN</td>\n",
       "      <td>NaN</td>\n",
       "    </tr>\n",
       "    <tr>\n",
       "      <th>865</th>\n",
       "      <td>NaN</td>\n",
       "      <td>NaN</td>\n",
       "    </tr>\n",
       "    <tr>\n",
       "      <th>880</th>\n",
       "      <td>NaN</td>\n",
       "      <td>NaN</td>\n",
       "    </tr>\n",
       "    <tr>\n",
       "      <th>889</th>\n",
       "      <td>NaN</td>\n",
       "      <td>NaN</td>\n",
       "    </tr>\n",
       "    <tr>\n",
       "      <th>908</th>\n",
       "      <td>NaN</td>\n",
       "      <td>NaN</td>\n",
       "    </tr>\n",
       "    <tr>\n",
       "      <th>1132</th>\n",
       "      <td>NaN</td>\n",
       "      <td>NaN</td>\n",
       "    </tr>\n",
       "    <tr>\n",
       "      <th>1150</th>\n",
       "      <td>NaN</td>\n",
       "      <td>198.0</td>\n",
       "    </tr>\n",
       "    <tr>\n",
       "      <th>1197</th>\n",
       "      <td>NaN</td>\n",
       "      <td>NaN</td>\n",
       "    </tr>\n",
       "    <tr>\n",
       "      <th>1226</th>\n",
       "      <td>NaN</td>\n",
       "      <td>NaN</td>\n",
       "    </tr>\n",
       "    <tr>\n",
       "      <th>1402</th>\n",
       "      <td>NaN</td>\n",
       "      <td>NaN</td>\n",
       "    </tr>\n",
       "  </tbody>\n",
       "</table>\n",
       "</div>"
      ],
      "text/plain": [
       "     MasVnrType  MasVnrArea\n",
       "231         NaN         NaN\n",
       "246         NaN         NaN\n",
       "422         NaN         NaN\n",
       "532         NaN         NaN\n",
       "544         NaN         NaN\n",
       "581         NaN         NaN\n",
       "851         NaN         NaN\n",
       "865         NaN         NaN\n",
       "880         NaN         NaN\n",
       "889         NaN         NaN\n",
       "908         NaN         NaN\n",
       "1132        NaN         NaN\n",
       "1150        NaN       198.0\n",
       "1197        NaN         NaN\n",
       "1226        NaN         NaN\n",
       "1402        NaN         NaN"
      ]
     },
     "execution_count": 40,
     "metadata": {},
     "output_type": "execute_result"
    }
   ],
   "source": [
    "test[pd.isna(test['MasVnrType'])][['MasVnrType','MasVnrArea']]"
   ]
  },
  {
   "cell_type": "code",
   "execution_count": 41,
   "metadata": {},
   "outputs": [
    {
     "data": {
      "text/plain": [
       "245       Stone\n",
       "421     BrkFace\n",
       "1085      Stone\n",
       "1150        NaN\n",
       "1372    BrkFace\n",
       "1442      Stone\n",
       "Name: MasVnrType, dtype: object"
      ]
     },
     "execution_count": 41,
     "metadata": {},
     "output_type": "execute_result"
    }
   ],
   "source": [
    "test.loc[test['MasVnrArea'] == 198.0, 'MasVnrType']"
   ]
  },
  {
   "cell_type": "code",
   "execution_count": 42,
   "metadata": {},
   "outputs": [
    {
     "data": {
      "text/plain": [
       "Id                  2611\n",
       "MSSubClass            20\n",
       "MSZoning              RL\n",
       "LotFrontage          124\n",
       "LotArea            27697\n",
       "                  ...   \n",
       "MiscVal                0\n",
       "MoSold                11\n",
       "YrSold              2007\n",
       "SaleType             COD\n",
       "SaleCondition    Abnorml\n",
       "Name: 1150, Length: 80, dtype: object"
      ]
     },
     "execution_count": 42,
     "metadata": {},
     "output_type": "execute_result"
    }
   ],
   "source": [
    "test.iloc[1150]"
   ]
  },
  {
   "cell_type": "code",
   "execution_count": 43,
   "metadata": {},
   "outputs": [],
   "source": [
    "test.loc[test['Id'] == 2611,'MasVnrType'] = 'Stone'"
   ]
  },
  {
   "cell_type": "code",
   "execution_count": 44,
   "metadata": {},
   "outputs": [
    {
     "data": {
      "text/html": [
       "<div>\n",
       "<style scoped>\n",
       "    .dataframe tbody tr th:only-of-type {\n",
       "        vertical-align: middle;\n",
       "    }\n",
       "\n",
       "    .dataframe tbody tr th {\n",
       "        vertical-align: top;\n",
       "    }\n",
       "\n",
       "    .dataframe thead th {\n",
       "        text-align: right;\n",
       "    }\n",
       "</style>\n",
       "<table border=\"1\" class=\"dataframe\">\n",
       "  <thead>\n",
       "    <tr style=\"text-align: right;\">\n",
       "      <th></th>\n",
       "      <th>MasVnrType</th>\n",
       "      <th>MasVnrArea</th>\n",
       "    </tr>\n",
       "  </thead>\n",
       "  <tbody>\n",
       "    <tr>\n",
       "      <th>231</th>\n",
       "      <td>NaN</td>\n",
       "      <td>NaN</td>\n",
       "    </tr>\n",
       "    <tr>\n",
       "      <th>246</th>\n",
       "      <td>NaN</td>\n",
       "      <td>NaN</td>\n",
       "    </tr>\n",
       "    <tr>\n",
       "      <th>422</th>\n",
       "      <td>NaN</td>\n",
       "      <td>NaN</td>\n",
       "    </tr>\n",
       "    <tr>\n",
       "      <th>532</th>\n",
       "      <td>NaN</td>\n",
       "      <td>NaN</td>\n",
       "    </tr>\n",
       "    <tr>\n",
       "      <th>544</th>\n",
       "      <td>NaN</td>\n",
       "      <td>NaN</td>\n",
       "    </tr>\n",
       "    <tr>\n",
       "      <th>581</th>\n",
       "      <td>NaN</td>\n",
       "      <td>NaN</td>\n",
       "    </tr>\n",
       "    <tr>\n",
       "      <th>851</th>\n",
       "      <td>NaN</td>\n",
       "      <td>NaN</td>\n",
       "    </tr>\n",
       "    <tr>\n",
       "      <th>865</th>\n",
       "      <td>NaN</td>\n",
       "      <td>NaN</td>\n",
       "    </tr>\n",
       "    <tr>\n",
       "      <th>880</th>\n",
       "      <td>NaN</td>\n",
       "      <td>NaN</td>\n",
       "    </tr>\n",
       "    <tr>\n",
       "      <th>889</th>\n",
       "      <td>NaN</td>\n",
       "      <td>NaN</td>\n",
       "    </tr>\n",
       "    <tr>\n",
       "      <th>908</th>\n",
       "      <td>NaN</td>\n",
       "      <td>NaN</td>\n",
       "    </tr>\n",
       "    <tr>\n",
       "      <th>1132</th>\n",
       "      <td>NaN</td>\n",
       "      <td>NaN</td>\n",
       "    </tr>\n",
       "    <tr>\n",
       "      <th>1197</th>\n",
       "      <td>NaN</td>\n",
       "      <td>NaN</td>\n",
       "    </tr>\n",
       "    <tr>\n",
       "      <th>1226</th>\n",
       "      <td>NaN</td>\n",
       "      <td>NaN</td>\n",
       "    </tr>\n",
       "    <tr>\n",
       "      <th>1402</th>\n",
       "      <td>NaN</td>\n",
       "      <td>NaN</td>\n",
       "    </tr>\n",
       "  </tbody>\n",
       "</table>\n",
       "</div>"
      ],
      "text/plain": [
       "     MasVnrType  MasVnrArea\n",
       "231         NaN         NaN\n",
       "246         NaN         NaN\n",
       "422         NaN         NaN\n",
       "532         NaN         NaN\n",
       "544         NaN         NaN\n",
       "581         NaN         NaN\n",
       "851         NaN         NaN\n",
       "865         NaN         NaN\n",
       "880         NaN         NaN\n",
       "889         NaN         NaN\n",
       "908         NaN         NaN\n",
       "1132        NaN         NaN\n",
       "1197        NaN         NaN\n",
       "1226        NaN         NaN\n",
       "1402        NaN         NaN"
      ]
     },
     "execution_count": 44,
     "metadata": {},
     "output_type": "execute_result"
    }
   ],
   "source": [
    "test[pd.isna(test['MasVnrType'])][['MasVnrType','MasVnrArea']]"
   ]
  },
  {
   "cell_type": "code",
   "execution_count": 45,
   "metadata": {},
   "outputs": [
    {
     "name": "stdout",
     "output_type": "stream",
     "text": [
      "0\n",
      "0\n"
     ]
    }
   ],
   "source": [
    "test['MasVnrType'].fillna('None',inplace=True)\n",
    "print(pd.isna(test['MasVnrType']).sum())\n",
    "\n",
    "test['MasVnrArea'].fillna(0,inplace=True)\n",
    "print(pd.isna(test['MasVnrArea']).sum())"
   ]
  },
  {
   "cell_type": "code",
   "execution_count": 46,
   "metadata": {},
   "outputs": [
    {
     "data": {
      "text/html": [
       "<div>\n",
       "<style scoped>\n",
       "    .dataframe tbody tr th:only-of-type {\n",
       "        vertical-align: middle;\n",
       "    }\n",
       "\n",
       "    .dataframe tbody tr th {\n",
       "        vertical-align: top;\n",
       "    }\n",
       "\n",
       "    .dataframe thead th {\n",
       "        text-align: right;\n",
       "    }\n",
       "</style>\n",
       "<table border=\"1\" class=\"dataframe\">\n",
       "  <thead>\n",
       "    <tr style=\"text-align: right;\">\n",
       "      <th></th>\n",
       "      <th>MasVnrType</th>\n",
       "      <th>MasVnrArea</th>\n",
       "    </tr>\n",
       "  </thead>\n",
       "  <tbody>\n",
       "  </tbody>\n",
       "</table>\n",
       "</div>"
      ],
      "text/plain": [
       "Empty DataFrame\n",
       "Columns: [MasVnrType, MasVnrArea]\n",
       "Index: []"
      ]
     },
     "execution_count": 46,
     "metadata": {},
     "output_type": "execute_result"
    }
   ],
   "source": [
    "test[pd.isna(test['MasVnrType'])][['MasVnrType','MasVnrArea']]"
   ]
  },
  {
   "cell_type": "code",
   "execution_count": 47,
   "metadata": {},
   "outputs": [
    {
     "data": {
      "text/plain": [
       "LotFrontage     227\n",
       "GarageYrBlt      78\n",
       "MSZoning          4\n",
       "Utilities         2\n",
       "BsmtFullBath      2\n",
       "BsmtHalfBath      2\n",
       "Functional        2\n",
       "Exterior1st       1\n",
       "Exterior2nd       1\n",
       "BsmtFinSF1        1\n",
       "BsmtFinSF2        1\n",
       "BsmtUnfSF         1\n",
       "TotalBsmtSF       1\n",
       "KitchenQual       1\n",
       "GarageCars        1\n",
       "GarageArea        1\n",
       "SaleType          1\n",
       "Id                0\n",
       "MSSubClass        0\n",
       "LotArea           0\n",
       "dtype: int64"
      ]
     },
     "execution_count": 47,
     "metadata": {},
     "output_type": "execute_result"
    }
   ],
   "source": [
    "pd.isna(test).sum().nlargest(20)"
   ]
  },
  {
   "cell_type": "code",
   "execution_count": 48,
   "metadata": {},
   "outputs": [],
   "source": [
    "# Carry on fixing null values. \n",
    "\n",
    "# Then start making all the data model friendly. (Dummy variables, label encoder)"
   ]
  },
  {
   "cell_type": "code",
   "execution_count": 49,
   "metadata": {},
   "outputs": [],
   "source": [
    "# Fill in the missing Lot Frontage values by using the average lot frontage for each neighbourhood\n",
    "test['LotFrontage'] = test.groupby('Neighborhood')['LotFrontage'].transform(lambda x: x.fillna(x.mean()))"
   ]
  },
  {
   "cell_type": "code",
   "execution_count": 50,
   "metadata": {},
   "outputs": [
    {
     "data": {
      "text/plain": [
       "0"
      ]
     },
     "execution_count": 50,
     "metadata": {},
     "output_type": "execute_result"
    }
   ],
   "source": [
    "test['GarageYrBlt'].fillna(0,inplace=True)\n",
    "pd.isna(test['GarageYrBlt']).sum()"
   ]
  },
  {
   "cell_type": "code",
   "execution_count": 51,
   "metadata": {},
   "outputs": [
    {
     "data": {
      "text/plain": [
       "0"
      ]
     },
     "execution_count": 51,
     "metadata": {},
     "output_type": "execute_result"
    }
   ],
   "source": [
    "# Fill in the missing MSZoning values by using the mode MSZoning for each MSSubClass\n",
    "test['MSZoning'] = test.groupby('MSSubClass')['MSZoning'].transform(lambda x: x.fillna(x.mode()[0]))\n",
    "pd.isna(test['MSZoning']).sum()"
   ]
  },
  {
   "cell_type": "code",
   "execution_count": 52,
   "metadata": {},
   "outputs": [
    {
     "data": {
      "text/plain": [
       "Utilities       2\n",
       "BsmtFullBath    2\n",
       "BsmtHalfBath    2\n",
       "Functional      2\n",
       "Exterior1st     1\n",
       "Exterior2nd     1\n",
       "BsmtFinSF1      1\n",
       "BsmtFinSF2      1\n",
       "BsmtUnfSF       1\n",
       "TotalBsmtSF     1\n",
       "KitchenQual     1\n",
       "GarageCars      1\n",
       "GarageArea      1\n",
       "SaleType        1\n",
       "Id              0\n",
       "dtype: int64"
      ]
     },
     "execution_count": 52,
     "metadata": {},
     "output_type": "execute_result"
    }
   ],
   "source": [
    "pd.isna(test).sum().nlargest(15)"
   ]
  },
  {
   "cell_type": "code",
   "execution_count": 53,
   "metadata": {},
   "outputs": [],
   "source": [
    "modefill = ['Utilities','BsmtFullBath','BsmtHalfBath','Exterior1st','Exterior2nd','SaleType','KitchenQual']\n",
    "\n",
    "for i in modefill:\n",
    "    test[i].fillna(test[i].mode()[0],inplace = True)"
   ]
  },
  {
   "cell_type": "code",
   "execution_count": 54,
   "metadata": {},
   "outputs": [
    {
     "data": {
      "text/plain": [
       "Functional     2\n",
       "BsmtFinSF1     1\n",
       "BsmtFinSF2     1\n",
       "BsmtUnfSF      1\n",
       "TotalBsmtSF    1\n",
       "GarageCars     1\n",
       "GarageArea     1\n",
       "Id             0\n",
       "MSSubClass     0\n",
       "dtype: int64"
      ]
     },
     "execution_count": 54,
     "metadata": {},
     "output_type": "execute_result"
    }
   ],
   "source": [
    "pd.isna(test).sum().nlargest(9)"
   ]
  },
  {
   "cell_type": "code",
   "execution_count": 55,
   "metadata": {},
   "outputs": [],
   "source": [
    "test['Functional'].fillna('Typ',inplace = True) "
   ]
  },
  {
   "cell_type": "code",
   "execution_count": 56,
   "metadata": {},
   "outputs": [],
   "source": [
    "zerofill = ['BsmtFinSF1','BsmtFinSF2','BsmtUnfSF','TotalBsmtSF','GarageCars','GarageArea']\n",
    "for i in zerofill:\n",
    "    test[i].fillna(0,inplace = True)"
   ]
  },
  {
   "cell_type": "code",
   "execution_count": 57,
   "metadata": {},
   "outputs": [
    {
     "data": {
      "text/plain": [
       "Id            0\n",
       "MSSubClass    0\n",
       "MSZoning      0\n",
       "dtype: int64"
      ]
     },
     "execution_count": 57,
     "metadata": {},
     "output_type": "execute_result"
    }
   ],
   "source": [
    "pd.isna(test).sum().nlargest(3)"
   ]
  },
  {
   "cell_type": "code",
   "execution_count": 58,
   "metadata": {},
   "outputs": [],
   "source": [
    "# Done with all the NA values"
   ]
  },
  {
   "cell_type": "code",
   "execution_count": 59,
   "metadata": {},
   "outputs": [],
   "source": [
    "# Fix skewed variables\n",
    "from scipy import stats"
   ]
  },
  {
   "cell_type": "code",
   "execution_count": 60,
   "metadata": {},
   "outputs": [],
   "source": [
    "numeric_dtypes = ['int16', 'int32', 'int64', 'float16', 'float32', 'float64']\n",
    "num_features = list(train.select_dtypes(include=numeric_dtypes).drop('SalePrice',axis=1).columns)"
   ]
  },
  {
   "cell_type": "code",
   "execution_count": 61,
   "metadata": {},
   "outputs": [
    {
     "data": {
      "text/plain": [
       "['Id',\n",
       " 'MSSubClass',\n",
       " 'LotFrontage',\n",
       " 'LotArea',\n",
       " 'OverallQual',\n",
       " 'OverallCond',\n",
       " 'YearBuilt',\n",
       " 'YearRemodAdd',\n",
       " 'MasVnrArea',\n",
       " 'BsmtFinSF1',\n",
       " 'BsmtFinSF2',\n",
       " 'BsmtUnfSF',\n",
       " 'TotalBsmtSF',\n",
       " '1stFlrSF',\n",
       " '2ndFlrSF',\n",
       " 'LowQualFinSF',\n",
       " 'GrLivArea',\n",
       " 'BsmtFullBath',\n",
       " 'BsmtHalfBath',\n",
       " 'FullBath',\n",
       " 'HalfBath',\n",
       " 'BedroomAbvGr',\n",
       " 'KitchenAbvGr',\n",
       " 'TotRmsAbvGrd',\n",
       " 'Fireplaces',\n",
       " 'GarageYrBlt',\n",
       " 'GarageCars',\n",
       " 'GarageArea',\n",
       " 'WoodDeckSF',\n",
       " 'OpenPorchSF',\n",
       " 'EnclosedPorch',\n",
       " '3SsnPorch',\n",
       " 'ScreenPorch',\n",
       " 'PoolArea',\n",
       " 'MiscVal',\n",
       " 'MoSold',\n",
       " 'YrSold']"
      ]
     },
     "execution_count": 61,
     "metadata": {},
     "output_type": "execute_result"
    }
   ],
   "source": [
    "num_features"
   ]
  },
  {
   "cell_type": "code",
   "execution_count": 62,
   "metadata": {},
   "outputs": [],
   "source": [
    "full_df = train.append(test)"
   ]
  },
  {
   "cell_type": "code",
   "execution_count": 63,
   "metadata": {},
   "outputs": [],
   "source": [
    "skew_features = full_df[num_features].apply(lambda x: stats.skew(x)).sort_values(ascending=False)"
   ]
  },
  {
   "cell_type": "code",
   "execution_count": 64,
   "metadata": {},
   "outputs": [
    {
     "data": {
      "text/plain": [
       "MiscVal          21.939672\n",
       "PoolArea         17.688664\n",
       "LotArea          13.109495\n",
       "LowQualFinSF     12.084539\n",
       "3SsnPorch        11.372080\n",
       "KitchenAbvGr      4.300550\n",
       "BsmtFinSF2        4.144503\n",
       "EnclosedPorch     4.002344\n",
       "ScreenPorch       3.945101\n",
       "BsmtHalfBath      3.929996\n",
       "MasVnrArea        2.621719\n",
       "OpenPorchSF       2.529358\n",
       "WoodDeckSF        1.844792\n",
       "MSSubClass        1.375131\n",
       "1stFlrSF          1.257286\n",
       "GrLivArea         1.068750\n",
       "LotFrontage       1.056433\n",
       "BsmtFinSF1        0.980645\n",
       "BsmtUnfSF         0.919688\n",
       "2ndFlrSF          0.861556\n",
       "GarageYrBlt      -3.904632\n",
       "dtype: float64"
      ]
     },
     "execution_count": 64,
     "metadata": {},
     "output_type": "execute_result"
    }
   ],
   "source": [
    "skew_features = skew_features[abs(skew_features) > 0.75]\n",
    "skew_features"
   ]
  },
  {
   "cell_type": "code",
   "execution_count": 65,
   "metadata": {},
   "outputs": [],
   "source": [
    "for feat in skew_features.index:\n",
    "    full_df[feat] = np.log1p(full_df[feat])"
   ]
  },
  {
   "cell_type": "code",
   "execution_count": 66,
   "metadata": {},
   "outputs": [],
   "source": [
    "ind = len(train)\n",
    "train = full_df.iloc[:ind]\n",
    "test = full_df.iloc[ind:]\n",
    "combine = [train,test]"
   ]
  },
  {
   "cell_type": "code",
   "execution_count": 67,
   "metadata": {},
   "outputs": [],
   "source": [
    "from sklearn.preprocessing import LabelEncoder"
   ]
  },
  {
   "cell_type": "code",
   "execution_count": 68,
   "metadata": {},
   "outputs": [
    {
     "name": "stderr",
     "output_type": "stream",
     "text": [
      "C:\\Users\\clint\\anaconda3\\lib\\site-packages\\ipykernel_launcher.py:10: SettingWithCopyWarning: \n",
      "A value is trying to be set on a copy of a slice from a DataFrame.\n",
      "Try using .loc[row_indexer,col_indexer] = value instead\n",
      "\n",
      "See the caveats in the documentation: https://pandas.pydata.org/pandas-docs/stable/user_guide/indexing.html#returning-a-view-versus-a-copy\n",
      "  # Remove the CWD from sys.path while we load stuff.\n"
     ]
    }
   ],
   "source": [
    "# Label encoding the following columns\n",
    "encodecols = ['MSSubClass','Street','Alley','Utilities','LandSlope','ExterQual','ExterCond',\n",
    "              'BsmtQual','BsmtCond','BsmtFinType1','BsmtFinType2',\n",
    "             'HeatingQC','KitchenQual','Functional','FireplaceQu','GarageFinish',\n",
    "              'GarageQual','GarageCond','PoolQC','Fence']\n",
    "for dataset in combine:\n",
    "    for i in encodecols:\n",
    "        lbe = LabelEncoder()\n",
    "        lbe.fit(list(dataset[i].values))\n",
    "        dataset[i] = lbe.transform(list(dataset[i].values))"
   ]
  },
  {
   "cell_type": "code",
   "execution_count": 69,
   "metadata": {},
   "outputs": [],
   "source": [
    "full_df = train.append(test)"
   ]
  },
  {
   "cell_type": "code",
   "execution_count": 70,
   "metadata": {},
   "outputs": [],
   "source": [
    "full_df = pd.get_dummies(full_df,drop_first=True)"
   ]
  },
  {
   "cell_type": "code",
   "execution_count": 71,
   "metadata": {},
   "outputs": [],
   "source": [
    "ind = len(train)"
   ]
  },
  {
   "cell_type": "code",
   "execution_count": 72,
   "metadata": {},
   "outputs": [],
   "source": [
    "train = full_df.iloc[:ind]"
   ]
  },
  {
   "cell_type": "code",
   "execution_count": 73,
   "metadata": {},
   "outputs": [],
   "source": [
    "test = full_df.iloc[ind:]"
   ]
  },
  {
   "cell_type": "code",
   "execution_count": 74,
   "metadata": {},
   "outputs": [],
   "source": [
    "combine = [train,test]"
   ]
  },
  {
   "cell_type": "code",
   "execution_count": 75,
   "metadata": {},
   "outputs": [],
   "source": [
    "temp_train_Id = train['Id']\n",
    "temp_test_Id = test['Id']"
   ]
  },
  {
   "cell_type": "code",
   "execution_count": 76,
   "metadata": {},
   "outputs": [
    {
     "name": "stderr",
     "output_type": "stream",
     "text": [
      "C:\\Users\\clint\\AppData\\Roaming\\Python\\Python37\\site-packages\\pandas\\core\\frame.py:3997: SettingWithCopyWarning: \n",
      "A value is trying to be set on a copy of a slice from a DataFrame\n",
      "\n",
      "See the caveats in the documentation: https://pandas.pydata.org/pandas-docs/stable/user_guide/indexing.html#returning-a-view-versus-a-copy\n",
      "  errors=errors,\n"
     ]
    }
   ],
   "source": [
    "for dataset in combine:\n",
    "    dataset.drop('Id',axis=1,inplace=True)"
   ]
  },
  {
   "cell_type": "code",
   "execution_count": 77,
   "metadata": {},
   "outputs": [],
   "source": [
    "from sklearn.preprocessing import MinMaxScaler, StandardScaler,Normalizer,RobustScaler\n",
    "scaler = StandardScaler()"
   ]
  },
  {
   "cell_type": "code",
   "execution_count": 78,
   "metadata": {},
   "outputs": [],
   "source": [
    "# Scaling the data. Fitting and transforming on the train set, and only transforming the test set\n",
    "pd.set_option('mode.chained_assignment',None)\n",
    "for col in (train.columns):\n",
    "    if col != 'SalePrice':\n",
    "        train.loc[:,col] = scaler.fit_transform(train.loc[:,col].values.reshape(-1,1))\n",
    "        test.loc[:,col] = scaler.transform(test.loc[:,col].values.reshape(-1,1))\n",
    "        \n",
    "    else:\n",
    "        pass\n",
    "pd.reset_option('mode.chained_assignment')\n",
    "#train['SalePrice'] = scaler.fit_transform(train[col].values.reshape(-1,1))"
   ]
  },
  {
   "cell_type": "code",
   "execution_count": 79,
   "metadata": {},
   "outputs": [
    {
     "name": "stderr",
     "output_type": "stream",
     "text": [
      "C:\\Users\\clint\\AppData\\Roaming\\Python\\Python37\\site-packages\\pandas\\core\\indexing.py:1048: SettingWithCopyWarning: \n",
      "A value is trying to be set on a copy of a slice from a DataFrame.\n",
      "Try using .loc[row_indexer,col_indexer] = value instead\n",
      "\n",
      "See the caveats in the documentation: https://pandas.pydata.org/pandas-docs/stable/user_guide/indexing.html#returning-a-view-versus-a-copy\n",
      "  self.obj[item_labels[indexer[info_axis]]] = value\n"
     ]
    }
   ],
   "source": [
    "test.loc[:,'SalePrice'] = test['SalePrice'].fillna(0)"
   ]
  },
  {
   "cell_type": "code",
   "execution_count": 80,
   "metadata": {},
   "outputs": [],
   "source": [
    "train.loc[:,'SalePrice'] = train['SalePrice'].apply(lambda x: np.log(x))"
   ]
  },
  {
   "cell_type": "code",
   "execution_count": 81,
   "metadata": {},
   "outputs": [],
   "source": [
    "X = train.drop('SalePrice',axis=1)\n",
    "y = train['SalePrice']"
   ]
  },
  {
   "cell_type": "code",
   "execution_count": 82,
   "metadata": {},
   "outputs": [
    {
     "name": "stderr",
     "output_type": "stream",
     "text": [
      "Intel(R) Extension for Scikit-learn* enabled (https://github.com/intel/scikit-learn-intelex)\n"
     ]
    }
   ],
   "source": [
    "# Now the data has been cleaned and readied, Ill start testing various models\n",
    "from sklearnex import patch_sklearn\n",
    "patch_sklearn() # https://intel.github.io/scikit-learn-intelex/algorithms.html\n",
    "from sklearn.model_selection import GridSearchCV\n",
    "from sklearn.linear_model import LinearRegression\n",
    "from sklearn.svm import SVR\n",
    "from sklearn.ensemble import RandomForestRegressor"
   ]
  },
  {
   "cell_type": "code",
   "execution_count": 83,
   "metadata": {},
   "outputs": [],
   "source": [
    "# Lets create a dict that contains multiple models."
   ]
  },
  {
   "cell_type": "code",
   "execution_count": 84,
   "metadata": {},
   "outputs": [
    {
     "name": "stderr",
     "output_type": "stream",
     "text": [
      "C:\\Users\\clint\\AppData\\Roaming\\Python\\Python37\\site-packages\\sklearn\\utils\\deprecation.py:143: FutureWarning: The sklearn.utils.testing module is  deprecated in version 0.22 and will be removed in version 0.24. The corresponding classes / functions should instead be imported from sklearn.utils. Anything that cannot be imported from sklearn.utils is now part of the private API.\n",
      "  warnings.warn(message, FutureWarning)\n"
     ]
    }
   ],
   "source": [
    "from lazypredict.Supervised import LazyRegressor\n",
    "from sklearn.metrics import mean_squared_error"
   ]
  },
  {
   "cell_type": "code",
   "execution_count": 85,
   "metadata": {},
   "outputs": [],
   "source": [
    "from sklearn.model_selection import train_test_split"
   ]
  },
  {
   "cell_type": "code",
   "execution_count": 86,
   "metadata": {},
   "outputs": [],
   "source": [
    "X_train, X_test, y_train, y_test = train_test_split(X, y, test_size=0.3, random_state=42)"
   ]
  },
  {
   "cell_type": "code",
   "execution_count": 87,
   "metadata": {},
   "outputs": [],
   "source": [
    "reg = LazyRegressor(verbose=0,custom_metric=mean_squared_error)"
   ]
  },
  {
   "cell_type": "code",
   "execution_count": 88,
   "metadata": {},
   "outputs": [
    {
     "name": "stderr",
     "output_type": "stream",
     "text": [
      "100%|██████████| 50/50 [00:20<00:00,  2.48it/s]\n"
     ]
    }
   ],
   "source": [
    "models_lazy,predictions_lazy = reg.fit(X_train, X_test, y_train, y_test)"
   ]
  },
  {
   "cell_type": "code",
   "execution_count": 89,
   "metadata": {},
   "outputs": [
    {
     "name": "stdout",
     "output_type": "stream",
     "text": [
      "                                                              Adjusted R-Squared  \\\n",
      "Model                                                                              \n",
      "LassoLarsCV                                                                 0.83   \n",
      "LassoCV                                                                     0.83   \n",
      "ElasticNetCV                                                                0.83   \n",
      "GradientBoostingRegressor                                                   0.82   \n",
      "OrthogonalMatchingPursuitCV                                                 0.82   \n",
      "OrthogonalMatchingPursuit                                                   0.82   \n",
      "LarsCV                                                                      0.82   \n",
      "RidgeCV                                                                     0.81   \n",
      "Ridge                                                                       0.80   \n",
      "LassoLarsIC                                                                 0.80   \n",
      "LGBMRegressor                                                               0.78   \n",
      "HistGradientBoostingRegressor                                               0.78   \n",
      "XGBRegressor                                                                0.77   \n",
      "RandomForestRegressor                                                       0.76   \n",
      "RandomForestRegressor                                                       0.76   \n",
      "ExtraTreesRegressor                                                         0.76   \n",
      "BaggingRegressor                                                            0.73   \n",
      "AdaBoostRegressor                                                           0.68   \n",
      "NuSVR                                                                       0.52   \n",
      "NuSVR                                                                       0.52   \n",
      "SVR                                                                         0.49   \n",
      "SVR                                                                         0.49   \n",
      "DecisionTreeRegressor                                                       0.44   \n",
      "KNeighborsRegressor                                                         0.41   \n",
      "KNeighborsRegressor                                                         0.41   \n",
      "ExtraTreeRegressor                                                          0.41   \n",
      "ElasticNet                                                                 -0.89   \n",
      "Lasso                                                                      -0.89   \n",
      "ElasticNet                                                                 -0.89   \n",
      "LassoLars                                                                  -0.89   \n",
      "DummyRegressor                                                             -0.89   \n",
      "Lasso                                                                      -0.89   \n",
      "PoissonRegressor                                                          -11.35   \n",
      "GammaRegressor                                                            -11.39   \n",
      "GaussianProcessRegressor                                                -1726.90   \n",
      "BayesianRidge                                                          -21473.17   \n",
      "GeneralizedLinearRegressor                                             -70453.99   \n",
      "TweedieRegressor                                                       -70453.99   \n",
      "Lars                                                               -326413503.65   \n",
      "Ridge                                                       -2069957947079341.75   \n",
      "MLPRegressor                           -2939647511890174610864313872502751232.00   \n",
      "HuberRegressor                        -22613777064174544824364380594934644736.00   \n",
      "LinearSVR                             -22620693674890964930216072777192964096.00   \n",
      "PassiveAggressiveRegressor            -22621571938243132573031214048077676544.00   \n",
      "SGDRegressor                          -26935017992170922947321395236680237056.00   \n",
      "KernelRidge                           -40149271951437367795096153647315156992.00   \n",
      "RANSACRegressor               -1261384736341300567343526724524995743024771695...   \n",
      "LinearRegression              -3697443748516034802020244452565910921139766767...   \n",
      "LinearRegression              -3857132773494957526679573835225445508773321487...   \n",
      "TransformedTargetRegressor    -3857132773494957526679573835225445508773321487...   \n",
      "\n",
      "                                                                       R-Squared  \\\n",
      "Model                                                                              \n",
      "LassoLarsCV                                                                 0.91   \n",
      "LassoCV                                                                     0.91   \n",
      "ElasticNetCV                                                                0.91   \n",
      "GradientBoostingRegressor                                                   0.91   \n",
      "OrthogonalMatchingPursuitCV                                                 0.91   \n",
      "OrthogonalMatchingPursuit                                                   0.91   \n",
      "LarsCV                                                                      0.90   \n",
      "RidgeCV                                                                     0.90   \n",
      "Ridge                                                                       0.89   \n",
      "LassoLarsIC                                                                 0.89   \n",
      "LGBMRegressor                                                               0.88   \n",
      "HistGradientBoostingRegressor                                               0.88   \n",
      "XGBRegressor                                                                0.88   \n",
      "RandomForestRegressor                                                       0.88   \n",
      "RandomForestRegressor                                                       0.87   \n",
      "ExtraTreesRegressor                                                         0.87   \n",
      "BaggingRegressor                                                            0.86   \n",
      "AdaBoostRegressor                                                           0.83   \n",
      "NuSVR                                                                       0.75   \n",
      "NuSVR                                                                       0.75   \n",
      "SVR                                                                         0.73   \n",
      "SVR                                                                         0.73   \n",
      "DecisionTreeRegressor                                                       0.71   \n",
      "KNeighborsRegressor                                                         0.69   \n",
      "KNeighborsRegressor                                                         0.69   \n",
      "ExtraTreeRegressor                                                          0.69   \n",
      "ElasticNet                                                                 -0.00   \n",
      "Lasso                                                                      -0.00   \n",
      "ElasticNet                                                                 -0.00   \n",
      "LassoLars                                                                  -0.00   \n",
      "DummyRegressor                                                             -0.00   \n",
      "Lasso                                                                      -0.00   \n",
      "PoissonRegressor                                                           -5.53   \n",
      "GammaRegressor                                                             -5.55   \n",
      "GaussianProcessRegressor                                                 -912.38   \n",
      "BayesianRidge                                                          -11350.33   \n",
      "GeneralizedLinearRegressor                                             -37241.80   \n",
      "TweedieRegressor                                                       -37241.80   \n",
      "Lars                                                               -172543522.05   \n",
      "Ridge                                                       -1094188296968713.38   \n",
      "MLPRegressor                           -1553909783173067015606307413263646720.00   \n",
      "HuberRegressor                        -11953735702115149197164588482640740352.00   \n",
      "LinearSVR                             -11957391851029319167570051704115167232.00   \n",
      "PassiveAggressiveRegressor            -11957856104654837160727426580491534336.00   \n",
      "SGDRegressor                          -14237961455815750664235198814886035456.00   \n",
      "KernelRidge                           -21223070528105337050876121952871776256.00   \n",
      "RANSACRegressor               -6667731672650810732600926129053620957859831052...   \n",
      "LinearRegression              -1954483995210993082368428654487383544589777948...   \n",
      "LinearRegression              -2038896271572849575670200986698782237790961445...   \n",
      "TransformedTargetRegressor    -2038896271572849575670200986698782237790961445...   \n",
      "\n",
      "                                                                            RMSE  \\\n",
      "Model                                                                              \n",
      "LassoLarsCV                                                                 0.12   \n",
      "LassoCV                                                                     0.12   \n",
      "ElasticNetCV                                                                0.12   \n",
      "GradientBoostingRegressor                                                   0.12   \n",
      "OrthogonalMatchingPursuitCV                                                 0.12   \n",
      "OrthogonalMatchingPursuit                                                   0.12   \n",
      "LarsCV                                                                      0.12   \n",
      "RidgeCV                                                                     0.12   \n",
      "Ridge                                                                       0.13   \n",
      "LassoLarsIC                                                                 0.13   \n",
      "LGBMRegressor                                                               0.14   \n",
      "HistGradientBoostingRegressor                                               0.14   \n",
      "XGBRegressor                                                                0.14   \n",
      "RandomForestRegressor                                                       0.14   \n",
      "RandomForestRegressor                                                       0.14   \n",
      "ExtraTreesRegressor                                                         0.14   \n",
      "BaggingRegressor                                                            0.15   \n",
      "AdaBoostRegressor                                                           0.16   \n",
      "NuSVR                                                                       0.20   \n",
      "NuSVR                                                                       0.20   \n",
      "SVR                                                                         0.21   \n",
      "SVR                                                                         0.21   \n",
      "DecisionTreeRegressor                                                       0.21   \n",
      "KNeighborsRegressor                                                         0.22   \n",
      "KNeighborsRegressor                                                         0.22   \n",
      "ExtraTreeRegressor                                                          0.22   \n",
      "ElasticNet                                                                  0.40   \n",
      "Lasso                                                                       0.40   \n",
      "ElasticNet                                                                  0.40   \n",
      "LassoLars                                                                   0.40   \n",
      "DummyRegressor                                                              0.40   \n",
      "Lasso                                                                       0.40   \n",
      "PoissonRegressor                                                            1.01   \n",
      "GammaRegressor                                                              1.01   \n",
      "GaussianProcessRegressor                                                   11.98   \n",
      "BayesianRidge                                                              42.23   \n",
      "GeneralizedLinearRegressor                                                 76.49   \n",
      "TweedieRegressor                                                           76.49   \n",
      "Lars                                                                     5206.36   \n",
      "Ridge                                                                13110846.76   \n",
      "MLPRegressor                                               494080380934268032.00   \n",
      "HuberRegressor                                            1370365869018626304.00   \n",
      "LinearSVR                                                 1370575421863024128.00   \n",
      "PassiveAggressiveRegressor                                1370602028352154368.00   \n",
      "SGDRegressor                                              1495576440335080192.00   \n",
      "KernelRidge                                               1825949732046413056.00   \n",
      "RANSACRegressor                                   323648624678134148715511808.00   \n",
      "LinearRegression                                  554116098749388722599362560.00   \n",
      "LinearRegression              17897083920593538895677136889304824501379249990...   \n",
      "TransformedTargetRegressor    17897083920593538895677136889304824501379249990...   \n",
      "\n",
      "                               Time Taken  \\\n",
      "Model                                       \n",
      "LassoLarsCV                          0.34   \n",
      "LassoCV                              0.56   \n",
      "ElasticNetCV                         0.52   \n",
      "GradientBoostingRegressor            0.54   \n",
      "OrthogonalMatchingPursuitCV          0.07   \n",
      "OrthogonalMatchingPursuit            0.02   \n",
      "LarsCV                               0.41   \n",
      "RidgeCV                              0.09   \n",
      "Ridge                                0.02   \n",
      "LassoLarsIC                          0.09   \n",
      "LGBMRegressor                        0.17   \n",
      "HistGradientBoostingRegressor        4.96   \n",
      "XGBRegressor                         0.22   \n",
      "RandomForestRegressor                1.43   \n",
      "RandomForestRegressor                0.98   \n",
      "ExtraTreesRegressor                  1.44   \n",
      "BaggingRegressor                     0.19   \n",
      "AdaBoostRegressor                    0.41   \n",
      "NuSVR                                0.25   \n",
      "NuSVR                                0.45   \n",
      "SVR                                  0.12   \n",
      "SVR                                  0.12   \n",
      "DecisionTreeRegressor                0.04   \n",
      "KNeighborsRegressor                  0.05   \n",
      "KNeighborsRegressor                  0.17   \n",
      "ExtraTreeRegressor                   0.04   \n",
      "ElasticNet                           0.08   \n",
      "Lasso                                0.03   \n",
      "ElasticNet                           0.03   \n",
      "LassoLars                            0.03   \n",
      "DummyRegressor                       0.02   \n",
      "Lasso                                0.02   \n",
      "PoissonRegressor                     0.03   \n",
      "GammaRegressor                       0.03   \n",
      "GaussianProcessRegressor             0.33   \n",
      "BayesianRidge                        0.11   \n",
      "GeneralizedLinearRegressor           0.03   \n",
      "TweedieRegressor                     0.03   \n",
      "Lars                                 0.08   \n",
      "Ridge                                0.03   \n",
      "MLPRegressor                         2.15   \n",
      "HuberRegressor                       0.21   \n",
      "LinearSVR                            0.32   \n",
      "PassiveAggressiveRegressor           0.03   \n",
      "SGDRegressor                         0.02   \n",
      "KernelRidge                          0.05   \n",
      "RANSACRegressor                      2.63   \n",
      "LinearRegression                     0.07   \n",
      "LinearRegression                     0.03   \n",
      "TransformedTargetRegressor           0.03   \n",
      "\n",
      "                                                              mean_squared_error  \n",
      "Model                                                                             \n",
      "LassoLarsCV                                                                 0.01  \n",
      "LassoCV                                                                     0.01  \n",
      "ElasticNetCV                                                                0.01  \n",
      "GradientBoostingRegressor                                                   0.01  \n",
      "OrthogonalMatchingPursuitCV                                                 0.01  \n",
      "OrthogonalMatchingPursuit                                                   0.01  \n",
      "LarsCV                                                                      0.02  \n",
      "RidgeCV                                                                     0.02  \n",
      "Ridge                                                                       0.02  \n",
      "LassoLarsIC                                                                 0.02  \n",
      "LGBMRegressor                                                               0.02  \n",
      "HistGradientBoostingRegressor                                               0.02  \n",
      "XGBRegressor                                                                0.02  \n",
      "RandomForestRegressor                                                       0.02  \n",
      "RandomForestRegressor                                                       0.02  \n",
      "ExtraTreesRegressor                                                         0.02  \n",
      "BaggingRegressor                                                            0.02  \n",
      "AdaBoostRegressor                                                           0.03  \n",
      "NuSVR                                                                       0.04  \n",
      "NuSVR                                                                       0.04  \n",
      "SVR                                                                         0.04  \n",
      "SVR                                                                         0.04  \n",
      "DecisionTreeRegressor                                                       0.05  \n",
      "KNeighborsRegressor                                                         0.05  \n",
      "KNeighborsRegressor                                                         0.05  \n",
      "ExtraTreeRegressor                                                          0.05  \n",
      "ElasticNet                                                                  0.16  \n",
      "Lasso                                                                       0.16  \n",
      "ElasticNet                                                                  0.16  \n",
      "LassoLars                                                                   0.16  \n",
      "DummyRegressor                                                              0.16  \n",
      "Lasso                                                                       0.16  \n",
      "PoissonRegressor                                                            1.03  \n",
      "GammaRegressor                                                              1.03  \n",
      "GaussianProcessRegressor                                                  143.49  \n",
      "BayesianRidge                                                            1783.27  \n",
      "GeneralizedLinearRegressor                                               5850.75  \n",
      "TweedieRegressor                                                         5850.75  \n",
      "Lars                                                                 27106165.07  \n",
      "Ridge                                                         171894302781416.12  \n",
      "MLPRegressor                             244115422824151398037662619928625152.00  \n",
      "HuberRegressor                          1877902614971174761488399081408561152.00  \n",
      "LinearSVR                               1878476987015006472080055949512933376.00  \n",
      "PassiveAggressiveRegressor              1878549920123039934544530526674354176.00  \n",
      "SGDRegressor                            2236748888885349638171467700179566592.00  \n",
      "KernelRidge                             3334092423960367702322390582090006528.00  \n",
      "RANSACRegressor               10474843225604776209816956286364487264511746443...  \n",
      "LinearRegression              30704465089324233602812728490072457528720738483...  \n",
      "LinearRegression              32030561286076777057248003129569059855335787769...  \n",
      "TransformedTargetRegressor    32030561286076777057248003129569059855335787769...  \n"
     ]
    }
   ],
   "source": [
    "print(models_lazy)"
   ]
  },
  {
   "cell_type": "code",
   "execution_count": 90,
   "metadata": {},
   "outputs": [],
   "source": [
    "from sklearn.neighbors import KNeighborsRegressor\n",
    "from sklearn.linear_model import Ridge, Lasso, ElasticNet\n",
    "from sklearn.ensemble import GradientBoostingRegressor,ExtraTreesRegressor\n",
    "import xgboost as xgb"
   ]
  },
  {
   "cell_type": "code",
   "execution_count": 91,
   "metadata": {},
   "outputs": [],
   "source": [
    "# Selected the following models by looking at which models performed the best in the lazy regression, and models I usually use. \n",
    "model_params = {\n",
    "    'SVR':{\n",
    "        'model':SVR(gamma='auto'),\n",
    "        'params':{\n",
    "            'C':np.arange(0.5,50,0.5)\n",
    "        }\n",
    "    },\n",
    "    'RandomForestRegressor':{\n",
    "        'model':RandomForestRegressor(random_state=42),\n",
    "        'params':{\n",
    "            'n_estimators':[300,2000],\n",
    "            'max_depth':[8],\n",
    "            'min_samples_split':[3],\n",
    "            'min_samples_leaf':[3],\n",
    "            'oob_score':[False]\n",
    "        }\n",
    "    \n",
    "    },\n",
    "    'KNeighborsRegressor':{\n",
    "        'model':KNeighborsRegressor(),\n",
    "        'params':{\n",
    "            'n_neighbors':[10],\n",
    "            'leaf_size':[20],\n",
    "            'p':[2,6,10]\n",
    "        }\n",
    "    },\n",
    "    'Ridge':{\n",
    "        'model':Ridge(random_state=42),\n",
    "        'params':{\n",
    "            'alpha':[0.00005,0.0005,0.005,0.05,1,2,5,10,20,0.1,50]\n",
    "        }\n",
    "    },\n",
    "    'Lasso':{\n",
    "        'model':Lasso(random_state=42),\n",
    "        'params':{\n",
    "            'alpha':[0.00005,0.0005,0.005,0.05]\n",
    "        }\n",
    "    },\n",
    "    'GradientBoostingRegressor':{\n",
    "        'model':GradientBoostingRegressor(random_state=42),\n",
    "        'params':{\n",
    "            'n_estimators':[500,1500,3000],\n",
    "            'max_depth':[3],\n",
    "            'min_samples_split':[3],\n",
    "            'min_samples_leaf':[15],\n",
    "            'loss':['huber']\n",
    "        }\n",
    "    },\n",
    "    'ExtraTreesClassifier':{\n",
    "        'model':ExtraTreesRegressor(random_state=42),\n",
    "        'params':{\n",
    "            'n_estimators':[500,1500,3000],\n",
    "            'max_depth':[8],\n",
    "            'min_samples_split':[3],\n",
    "            'min_samples_leaf':[3]\n",
    "        }\n",
    "    },\n",
    "    'XGBRegressor':{\n",
    "        'model':xgb.XGBRegressor(random_state=42),\n",
    "        'params':{\n",
    "            'n_estimators':[2200,3000,3500],\n",
    "            'gamma':[0.01,0.04],\n",
    "            'learning_rate':[0.07],\n",
    "            'max_depth':[1,3]\n",
    "        }\n",
    "    }\n",
    "}"
   ]
  },
  {
   "cell_type": "code",
   "execution_count": 92,
   "metadata": {
    "scrolled": false
   },
   "outputs": [
    {
     "name": "stderr",
     "output_type": "stream",
     "text": [
      "[Parallel(n_jobs=15)]: Using backend LokyBackend with 15 concurrent workers.\n"
     ]
    },
    {
     "name": "stdout",
     "output_type": "stream",
     "text": [
      "Fitting 15 folds for each of 99 candidates, totalling 1485 fits\n"
     ]
    },
    {
     "name": "stderr",
     "output_type": "stream",
     "text": [
      "[Parallel(n_jobs=15)]: Done  20 tasks      | elapsed:    3.8s\n",
      "[Parallel(n_jobs=15)]: Done  83 tasks      | elapsed:    7.1s\n",
      "[Parallel(n_jobs=15)]: Done 170 tasks      | elapsed:   11.6s\n",
      "[Parallel(n_jobs=15)]: Done 283 tasks      | elapsed:   17.3s\n",
      "[Parallel(n_jobs=15)]: Done 420 tasks      | elapsed:   24.2s\n",
      "[Parallel(n_jobs=15)]: Done 583 tasks      | elapsed:   32.5s\n",
      "[Parallel(n_jobs=15)]: Done 770 tasks      | elapsed:   42.2s\n",
      "[Parallel(n_jobs=15)]: Done 983 tasks      | elapsed:   53.2s\n",
      "[Parallel(n_jobs=15)]: Done 1220 tasks      | elapsed:  1.1min\n",
      "[Parallel(n_jobs=15)]: Done 1485 out of 1485 | elapsed:  1.3min finished\n"
     ]
    },
    {
     "name": "stdout",
     "output_type": "stream",
     "text": [
      "Model done: SVR\n",
      "SVR Took 79.15 seconds long.\n",
      "Fitting 15 folds for each of 2 candidates, totalling 30 fits\n"
     ]
    },
    {
     "name": "stderr",
     "output_type": "stream",
     "text": [
      "[Parallel(n_jobs=15)]: Using backend LokyBackend with 15 concurrent workers.\n",
      "[Parallel(n_jobs=15)]: Done   7 out of  30 | elapsed:    3.1s remaining:   10.3s\n",
      "[Parallel(n_jobs=15)]: Done  13 out of  30 | elapsed:    3.2s remaining:    4.2s\n",
      "[Parallel(n_jobs=15)]: Done  19 out of  30 | elapsed:   22.8s remaining:   13.2s\n",
      "[Parallel(n_jobs=15)]: Done  25 out of  30 | elapsed:   23.1s remaining:    4.5s\n",
      "[Parallel(n_jobs=15)]: Done  30 out of  30 | elapsed:   24.1s finished\n"
     ]
    },
    {
     "name": "stdout",
     "output_type": "stream",
     "text": [
      "Model done: RandomForestRegressor\n",
      "RandomForestRegressor Took 37.5 seconds long.\n",
      "Fitting 15 folds for each of 3 candidates, totalling 45 fits\n"
     ]
    },
    {
     "name": "stderr",
     "output_type": "stream",
     "text": [
      "[Parallel(n_jobs=15)]: Using backend LokyBackend with 15 concurrent workers.\n",
      "[Parallel(n_jobs=15)]: Done  24 out of  45 | elapsed:    0.5s remaining:    0.4s\n",
      "[Parallel(n_jobs=15)]: Done  32 out of  45 | elapsed:    1.0s remaining:    0.3s\n",
      "[Parallel(n_jobs=15)]: Done  40 out of  45 | elapsed:    1.0s remaining:    0.0s\n",
      "[Parallel(n_jobs=15)]: Done  45 out of  45 | elapsed:    1.1s finished\n",
      "[Parallel(n_jobs=15)]: Using backend LokyBackend with 15 concurrent workers.\n"
     ]
    },
    {
     "name": "stdout",
     "output_type": "stream",
     "text": [
      "Model done: KNeighborsRegressor\n",
      "KNeighborsRegressor Took 1.26 seconds long.\n",
      "Fitting 15 folds for each of 11 candidates, totalling 165 fits\n"
     ]
    },
    {
     "name": "stderr",
     "output_type": "stream",
     "text": [
      "[Parallel(n_jobs=15)]: Done  20 tasks      | elapsed:    0.0s\n",
      "[Parallel(n_jobs=15)]: Done 136 out of 165 | elapsed:    0.3s remaining:    0.0s\n",
      "[Parallel(n_jobs=15)]: Done 165 out of 165 | elapsed:    0.3s finished\n",
      "[Parallel(n_jobs=15)]: Using backend LokyBackend with 15 concurrent workers.\n"
     ]
    },
    {
     "name": "stdout",
     "output_type": "stream",
     "text": [
      "Model done: Ridge\n",
      "Ridge Took 0.55 seconds long.\n",
      "Fitting 15 folds for each of 4 candidates, totalling 60 fits\n"
     ]
    },
    {
     "name": "stderr",
     "output_type": "stream",
     "text": [
      "[Parallel(n_jobs=15)]: Done  20 out of  60 | elapsed:    0.1s remaining:    0.3s\n",
      "[Parallel(n_jobs=15)]: Done  42 out of  60 | elapsed:    0.2s remaining:    0.0s\n",
      "[Parallel(n_jobs=15)]: Done  60 out of  60 | elapsed:    0.2s finished\n"
     ]
    },
    {
     "name": "stdout",
     "output_type": "stream",
     "text": [
      "Model done: Lasso\n",
      "Lasso Took 0.49 seconds long.\n",
      "Fitting 15 folds for each of 3 candidates, totalling 45 fits\n"
     ]
    },
    {
     "name": "stderr",
     "output_type": "stream",
     "text": [
      "[Parallel(n_jobs=15)]: Using backend LokyBackend with 15 concurrent workers.\n",
      "[Parallel(n_jobs=15)]: Done  24 out of  45 | elapsed:   26.9s remaining:   23.5s\n",
      "[Parallel(n_jobs=15)]: Done  32 out of  45 | elapsed:  1.1min remaining:   27.4s\n",
      "[Parallel(n_jobs=15)]: Done  40 out of  45 | elapsed:  1.1min remaining:    8.4s\n",
      "[Parallel(n_jobs=15)]: Done  45 out of  45 | elapsed:  1.1min finished\n"
     ]
    },
    {
     "name": "stdout",
     "output_type": "stream",
     "text": [
      "Model done: GradientBoostingRegressor\n",
      "GradientBoostingRegressor Took 72.97 seconds long.\n",
      "Fitting 15 folds for each of 3 candidates, totalling 45 fits\n"
     ]
    },
    {
     "name": "stderr",
     "output_type": "stream",
     "text": [
      "[Parallel(n_jobs=15)]: Using backend LokyBackend with 15 concurrent workers.\n",
      "[Parallel(n_jobs=15)]: Done  24 out of  45 | elapsed:   33.9s remaining:   29.7s\n",
      "[Parallel(n_jobs=15)]: Done  32 out of  45 | elapsed:  1.4min remaining:   34.3s\n",
      "[Parallel(n_jobs=15)]: Done  40 out of  45 | elapsed:  1.4min remaining:   10.6s\n",
      "[Parallel(n_jobs=15)]: Done  45 out of  45 | elapsed:  1.4min finished\n"
     ]
    },
    {
     "name": "stdout",
     "output_type": "stream",
     "text": [
      "Model done: ExtraTreesClassifier\n",
      "ExtraTreesClassifier Took 114.43 seconds long.\n",
      "Fitting 15 folds for each of 12 candidates, totalling 180 fits\n"
     ]
    },
    {
     "name": "stderr",
     "output_type": "stream",
     "text": [
      "[Parallel(n_jobs=15)]: Using backend LokyBackend with 15 concurrent workers.\n",
      "[Parallel(n_jobs=15)]: Done  20 tasks      | elapsed:   29.7s\n",
      "[Parallel(n_jobs=15)]: Done  83 tasks      | elapsed:  2.9min\n",
      "[Parallel(n_jobs=15)]: Done 180 out of 180 | elapsed:  5.7min finished\n"
     ]
    },
    {
     "name": "stdout",
     "output_type": "stream",
     "text": [
      "Model done: XGBRegressor\n",
      "XGBRegressor Took 345.28 seconds long.\n"
     ]
    }
   ],
   "source": [
    "# Fitting all the models above using the grid search cross validation method.\n",
    "import time\n",
    "models = []\n",
    "all_scores = []\n",
    "scores = []\n",
    "for model_name, mp in model_params.items():\n",
    "    start_time = time.time()\n",
    "    clf = GridSearchCV(mp['model'],mp['params'],verbose=6,cv=15,scoring='neg_root_mean_squared_error',n_jobs=15)\n",
    "    clf.fit(X,y)\n",
    "    scores.append({\n",
    "        'model':model_name,\n",
    "        'best_score': clf.best_score_,\n",
    "        'best_params':clf.best_params_\n",
    "    })\n",
    "    models.append({\n",
    "        model_name:clf\n",
    "    })\n",
    "    all_scores.append(pd.DataFrame(clf.cv_results_))\n",
    "    print('Model done: ' + model_name)\n",
    "    end_time = time.time()\n",
    "    print(model_name + f\" Took {round(end_time-start_time,2)} seconds long.\")"
   ]
  },
  {
   "cell_type": "code",
   "execution_count": 93,
   "metadata": {},
   "outputs": [],
   "source": [
    "df_results = pd.DataFrame(scores,columns=['model','best_score','best_params'])"
   ]
  },
  {
   "cell_type": "code",
   "execution_count": 94,
   "metadata": {},
   "outputs": [
    {
     "data": {
      "text/plain": [
       "array([['SVR', -0.18263558359023335],\n",
       "       ['RandomForestRegressor', -0.13895318789179284],\n",
       "       ['KNeighborsRegressor', -0.19704438005440178],\n",
       "       ['Ridge', -0.11564505642895583],\n",
       "       ['Lasso', -0.11300161219596903],\n",
       "       ['GradientBoostingRegressor', -0.11681687105562358],\n",
       "       ['ExtraTreesClassifier', -0.13906634016160496],\n",
       "       ['XGBRegressor', -0.11762005387625522]], dtype=object)"
      ]
     },
     "execution_count": 94,
     "metadata": {},
     "output_type": "execute_result"
    }
   ],
   "source": [
    "df_results[['model','best_score']].values"
   ]
  },
  {
   "cell_type": "code",
   "execution_count": 95,
   "metadata": {},
   "outputs": [
    {
     "data": {
      "text/html": [
       "<div>\n",
       "<style scoped>\n",
       "    .dataframe tbody tr th:only-of-type {\n",
       "        vertical-align: middle;\n",
       "    }\n",
       "\n",
       "    .dataframe tbody tr th {\n",
       "        vertical-align: top;\n",
       "    }\n",
       "\n",
       "    .dataframe thead th {\n",
       "        text-align: right;\n",
       "    }\n",
       "</style>\n",
       "<table border=\"1\" class=\"dataframe\">\n",
       "  <thead>\n",
       "    <tr style=\"text-align: right;\">\n",
       "      <th></th>\n",
       "      <th>model</th>\n",
       "      <th>best_score</th>\n",
       "      <th>best_params</th>\n",
       "    </tr>\n",
       "  </thead>\n",
       "  <tbody>\n",
       "    <tr>\n",
       "      <th>0</th>\n",
       "      <td>SVR</td>\n",
       "      <td>-0.18</td>\n",
       "      <td>{'C': 1.0}</td>\n",
       "    </tr>\n",
       "    <tr>\n",
       "      <th>1</th>\n",
       "      <td>RandomForestRegressor</td>\n",
       "      <td>-0.14</td>\n",
       "      <td>{'max_depth': 8, 'min_samples_leaf': 3, 'min_s...</td>\n",
       "    </tr>\n",
       "    <tr>\n",
       "      <th>2</th>\n",
       "      <td>KNeighborsRegressor</td>\n",
       "      <td>-0.20</td>\n",
       "      <td>{'leaf_size': 20, 'n_neighbors': 10, 'p': 2}</td>\n",
       "    </tr>\n",
       "    <tr>\n",
       "      <th>3</th>\n",
       "      <td>Ridge</td>\n",
       "      <td>-0.12</td>\n",
       "      <td>{'alpha': 50}</td>\n",
       "    </tr>\n",
       "    <tr>\n",
       "      <th>4</th>\n",
       "      <td>Lasso</td>\n",
       "      <td>-0.11</td>\n",
       "      <td>{'alpha': 0.005}</td>\n",
       "    </tr>\n",
       "    <tr>\n",
       "      <th>5</th>\n",
       "      <td>GradientBoostingRegressor</td>\n",
       "      <td>-0.12</td>\n",
       "      <td>{'loss': 'huber', 'max_depth': 3, 'min_samples...</td>\n",
       "    </tr>\n",
       "    <tr>\n",
       "      <th>6</th>\n",
       "      <td>ExtraTreesClassifier</td>\n",
       "      <td>-0.14</td>\n",
       "      <td>{'max_depth': 8, 'min_samples_leaf': 3, 'min_s...</td>\n",
       "    </tr>\n",
       "    <tr>\n",
       "      <th>7</th>\n",
       "      <td>XGBRegressor</td>\n",
       "      <td>-0.12</td>\n",
       "      <td>{'gamma': 0.01, 'learning_rate': 0.07, 'max_de...</td>\n",
       "    </tr>\n",
       "  </tbody>\n",
       "</table>\n",
       "</div>"
      ],
      "text/plain": [
       "                       model  best_score  \\\n",
       "0                        SVR       -0.18   \n",
       "1      RandomForestRegressor       -0.14   \n",
       "2        KNeighborsRegressor       -0.20   \n",
       "3                      Ridge       -0.12   \n",
       "4                      Lasso       -0.11   \n",
       "5  GradientBoostingRegressor       -0.12   \n",
       "6       ExtraTreesClassifier       -0.14   \n",
       "7               XGBRegressor       -0.12   \n",
       "\n",
       "                                         best_params  \n",
       "0                                         {'C': 1.0}  \n",
       "1  {'max_depth': 8, 'min_samples_leaf': 3, 'min_s...  \n",
       "2       {'leaf_size': 20, 'n_neighbors': 10, 'p': 2}  \n",
       "3                                      {'alpha': 50}  \n",
       "4                                   {'alpha': 0.005}  \n",
       "5  {'loss': 'huber', 'max_depth': 3, 'min_samples...  \n",
       "6  {'max_depth': 8, 'min_samples_leaf': 3, 'min_s...  \n",
       "7  {'gamma': 0.01, 'learning_rate': 0.07, 'max_de...  "
      ]
     },
     "execution_count": 95,
     "metadata": {},
     "output_type": "execute_result"
    }
   ],
   "source": [
    "df_results"
   ]
  },
  {
   "cell_type": "code",
   "execution_count": 96,
   "metadata": {},
   "outputs": [],
   "source": [
    "# Going to try a stacked regression model.\n",
    "from sklearn.ensemble import StackingRegressor"
   ]
  },
  {
   "cell_type": "code",
   "execution_count": 97,
   "metadata": {},
   "outputs": [],
   "source": [
    "list_of_models = ['RandomForestRegressor','GradientBoostingRegressor','ExtraTreesClassifier','XGBRegressor']\n",
    "estimators = [(i,o.best_estimator_) for f in models for i,o in f.items() if i in list_of_models]"
   ]
  },
  {
   "cell_type": "code",
   "execution_count": 98,
   "metadata": {},
   "outputs": [
    {
     "data": {
      "text/plain": [
       "[('RandomForestRegressor',\n",
       "  RandomForestRegressor(max_depth=8, min_samples_leaf=3, min_samples_split=3,\n",
       "                        n_estimators=2000, random_state=42)),\n",
       " ('GradientBoostingRegressor',\n",
       "  GradientBoostingRegressor(loss='huber', min_samples_leaf=15,\n",
       "                            min_samples_split=3, n_estimators=500,\n",
       "                            random_state=42)),\n",
       " ('ExtraTreesClassifier',\n",
       "  ExtraTreesRegressor(max_depth=8, min_samples_leaf=3, min_samples_split=3,\n",
       "                      n_estimators=3000, random_state=42)),\n",
       " ('XGBRegressor',\n",
       "  XGBRegressor(base_score=0.5, booster='gbtree', colsample_bylevel=1,\n",
       "               colsample_bynode=1, colsample_bytree=1, gamma=0.01, gpu_id=-1,\n",
       "               importance_type='gain', interaction_constraints='',\n",
       "               learning_rate=0.07, max_delta_step=0, max_depth=1,\n",
       "               min_child_weight=1, missing=nan, monotone_constraints='()',\n",
       "               n_estimators=2200, n_jobs=0, num_parallel_tree=1, random_state=42,\n",
       "               reg_alpha=0, reg_lambda=1, scale_pos_weight=1, subsample=1,\n",
       "               tree_method='exact', validate_parameters=1, verbosity=None))]"
      ]
     },
     "execution_count": 98,
     "metadata": {},
     "output_type": "execute_result"
    }
   ],
   "source": [
    "estimators"
   ]
  },
  {
   "cell_type": "code",
   "execution_count": 99,
   "metadata": {},
   "outputs": [
    {
     "data": {
      "text/plain": [
       "StackingRegressor(estimators=[('RandomForestRegressor',\n",
       "                               RandomForestRegressor(max_depth=8,\n",
       "                                                     min_samples_leaf=3,\n",
       "                                                     min_samples_split=3,\n",
       "                                                     n_estimators=2000,\n",
       "                                                     random_state=42)),\n",
       "                              ('GradientBoostingRegressor',\n",
       "                               GradientBoostingRegressor(loss='huber',\n",
       "                                                         min_samples_leaf=15,\n",
       "                                                         min_samples_split=3,\n",
       "                                                         n_estimators=500,\n",
       "                                                         random_state=42)),\n",
       "                              ('ExtraTreesClassifier',\n",
       "                               ExtraTreesRegressor...\n",
       "                                            gpu_id=-1, importance_type='gain',\n",
       "                                            interaction_constraints='',\n",
       "                                            learning_rate=0.07,\n",
       "                                            max_delta_step=0, max_depth=1,\n",
       "                                            min_child_weight=1, missing=nan,\n",
       "                                            monotone_constraints='()',\n",
       "                                            n_estimators=2200, n_jobs=0,\n",
       "                                            num_parallel_tree=1,\n",
       "                                            random_state=42, reg_alpha=0,\n",
       "                                            reg_lambda=1, scale_pos_weight=1,\n",
       "                                            subsample=1, tree_method='exact',\n",
       "                                            validate_parameters=1,\n",
       "                                            verbosity=None))],\n",
       "                  n_jobs=15, verbose=3)"
      ]
     },
     "execution_count": 99,
     "metadata": {},
     "output_type": "execute_result"
    }
   ],
   "source": [
    "stack_reg = StackingRegressor(estimators=estimators,verbose=3,n_jobs=15)\n",
    "stack_reg.fit(X,y)"
   ]
  },
  {
   "cell_type": "code",
   "execution_count": 100,
   "metadata": {},
   "outputs": [],
   "source": [
    "models.append({\n",
    "    'StackedRegression':stack_reg\n",
    "})"
   ]
  },
  {
   "cell_type": "code",
   "execution_count": 101,
   "metadata": {},
   "outputs": [],
   "source": [
    "# Saving the models for potential submission\n",
    "import datetime\n",
    "import os\n",
    "save = 0 \n",
    "if (save == 1):\n",
    "    folder_name = \"Results\"\n",
    "    sub_folder =  str(datetime.datetime.now().day) + \" Day \" + str(datetime.datetime.now().month) + \" Month\"\n",
    "    hour_minute_second = str(datetime.datetime.now().hour) +\" Hours \" + str(datetime.datetime.now().minute) + \" Minutes \" + str(datetime.datetime.now().second) + \" Seconds\"\n",
    "    \n",
    "    os.makedirs(folder_name,exist_ok=True)\n",
    "    os.makedirs('Results/'+sub_folder,exist_ok=True)\n",
    "    #os.makedirs('Results/'+sub_folder,exist_ok=True)\n",
    "    os.makedirs('Results/'+sub_folder+\"/\"+hour_minute_second,exist_ok=True)\n",
    "    \n",
    "    for general in models:\n",
    "        for name_of_model,actual_model in general.items():\n",
    "            y_pred = pd.DataFrame(actual_model.predict(test.drop('SalePrice',axis=1)),columns=['SalePrice'])\n",
    "            y_pred = pd.concat([temp_test_Id,y_pred],axis=1)\n",
    "            y_pred['SalePrice'] = y_pred['SalePrice'].apply(lambda x: np.exp(x))\n",
    "            y_pred.to_csv('Results/'+sub_folder+'/'+hour_minute_second+'/'+name_of_model+'.csv',index=False)\n",
    "    df_results.to_csv('Results/'+sub_folder+'/'+hour_minute_second+'/'+'Model_results.csv')"
   ]
  }
 ],
 "metadata": {
  "kernelspec": {
   "display_name": "Python 3",
   "language": "python",
   "name": "python3"
  },
  "language_info": {
   "codemirror_mode": {
    "name": "ipython",
    "version": 3
   },
   "file_extension": ".py",
   "mimetype": "text/x-python",
   "name": "python",
   "nbconvert_exporter": "python",
   "pygments_lexer": "ipython3",
   "version": "3.7.11"
  }
 },
 "nbformat": 4,
 "nbformat_minor": 4
}
